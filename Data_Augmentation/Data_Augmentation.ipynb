{
  "nbformat": 4,
  "nbformat_minor": 0,
  "metadata": {
    "colab": {
      "provenance": [],
      "authorship_tag": "ABX9TyPV/RbhB7lUwBTCqxTyVT0g",
      "include_colab_link": true
    },
    "kernelspec": {
      "name": "python3",
      "display_name": "Python 3"
    },
    "language_info": {
      "name": "python"
    }
  },
  "cells": [
    {
      "cell_type": "markdown",
      "metadata": {
        "id": "view-in-github",
        "colab_type": "text"
      },
      "source": [
        "<a href=\"https://colab.research.google.com/github/amr-elbana/EcoSortAI-Classifier/blob/Preprocessing-amr/Data_Augmentation/Data_Augmentation.ipynb\" target=\"_parent\"><img src=\"https://colab.research.google.com/assets/colab-badge.svg\" alt=\"Open In Colab\"/></a>"
      ]
    },
    {
      "cell_type": "markdown",
      "source": [
        "# **Data_Augmentation**\n",
        "\n"
      ],
      "metadata": {
        "id": "wILu5ISEJipZ"
      }
    },
    {
      "cell_type": "code",
      "execution_count": null,
      "metadata": {
        "colab": {
          "base_uri": "https://localhost:8080/"
        },
        "id": "DB6Y6JxYJhNG",
        "outputId": "d65fdcf1-aada-4632-b445-a71d45093a28"
      },
      "outputs": [
        {
          "output_type": "stream",
          "name": "stdout",
          "text": [
            "Mounted at /content/drive\n"
          ]
        }
      ],
      "source": [
        "from google.colab import drive\n",
        "drive.mount('/content/drive')"
      ]
    },
    {
      "cell_type": "code",
      "source": [
        "import os\n",
        "from PIL import Image\n",
        "import numpy as np\n",
        "from imgaug import augmenters as iaa\n",
        "import math\n",
        "\n",
        "# Define the paths\n",
        "dataset_path = \"/path/to/dataset\"  # Original dataset path\n",
        "augmented_path = \"/path/to/augmented_dataset\"  # Output path for augmented dataset\n",
        "\n",
        "# Augmentation pipeline\n",
        "augmenter = iaa.Sequential([\n",
        "    iaa.Fliplr(0.5),  # Horizontal flip\n",
        "    iaa.Affine(rotate=(-20, 20)),  # Random rotation\n",
        "    iaa.Multiply((0.8, 1.2)),  # Brightness adjustment\n",
        "    iaa.GaussianBlur(sigma=(0, 1.0))  # Apply Gaussian blur\n",
        "])\n",
        "\n",
        "# Ensure the output folders exist\n",
        "for class_name in os.listdir(dataset_path):\n",
        "    os.makedirs(os.path.join(augmented_path, class_name), exist_ok=True)\n",
        "\n",
        "# Function to augment images\n",
        "def augment_images(class_path, output_path, target_count):\n",
        "    images = [os.path.join(class_path, img) for img in os.listdir(class_path) if img.endswith(('.png', '.jpg', '.jpeg'))]\n",
        "    existing_count = len(images)\n",
        "    augment_needed = target_count - existing_count\n",
        "\n",
        "    if augment_needed <= 0:\n",
        "        # Copy existing images to the augmented folder\n",
        "        for img_path in images:\n",
        "            img_name = os.path.basename(img_path)\n",
        "            output_img_path = os.path.join(output_path, img_name)\n",
        "            if not os.path.exists(output_img_path):\n",
        "                Image.open(img_path).save(output_img_path)\n",
        "        return\n",
        "\n",
        "    images = [Image.open(img_path) for img_path in images]\n",
        "    images_np = [np.array(img) for img in images]\n",
        "\n",
        "    for i in range(augment_needed):\n",
        "        img_np = augmenter.augment_image(images_np[i % existing_count])  # Augment image\n",
        "        augmented_img = Image.fromarray(img_np)\n",
        "        augmented_img.save(os.path.join(output_path, f\"aug_{i+1}.jpg\"))\n",
        "\n",
        "# Get the maximum number of images in any class\n",
        "max_images = max(len(os.listdir(os.path.join(dataset_path, class_name))) for class_name in os.listdir(dataset_path))\n",
        "\n",
        "# Calculate target count per class (5x the maximum count)\n",
        "target_count = max_images * 5\n",
        "\n",
        "# Augment each class to the target count\n",
        "for class_name in os.listdir(dataset_path):\n",
        "    class_path = os.path.join(dataset_path, class_name)\n",
        "    output_class_path = os.path.join(augmented_path, class_name)\n",
        "    augment_images(class_path, output_class_path, target_count)\n"
      ],
      "metadata": {
        "colab": {
          "base_uri": "https://localhost:8080/"
        },
        "id": "HCWsyZxAKKdk",
        "outputId": "37ecab80-8551-49a0-815c-4b373877da13"
      },
      "execution_count": null,
      "outputs": [
        {
          "output_type": "stream",
          "name": "stdout",
          "text": [
            "Augmentation complete. Augmented images are saved in: /content/drive/MyDrive/DL_Project/realWaste_Augmented2\n"
          ]
        }
      ]
    }
  ]
}