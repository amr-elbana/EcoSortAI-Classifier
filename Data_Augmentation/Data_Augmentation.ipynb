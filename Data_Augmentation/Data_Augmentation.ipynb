{
  "nbformat": 4,
  "nbformat_minor": 0,
  "metadata": {
    "colab": {
      "provenance": [],
      "authorship_tag": "ABX9TyM16waykmHDBL0GbzgD7uLv",
      "include_colab_link": true
    },
    "kernelspec": {
      "name": "python3",
      "display_name": "Python 3"
    },
    "language_info": {
      "name": "python"
    }
  },
  "cells": [
    {
      "cell_type": "markdown",
      "metadata": {
        "id": "view-in-github",
        "colab_type": "text"
      },
      "source": [
        "<a href=\"https://colab.research.google.com/github/amr-elbana/EcoSortAI-Classifier/blob/Preprocessing-amr/Data_Augmentation/Data_Augmentation.ipynb\" target=\"_parent\"><img src=\"https://colab.research.google.com/assets/colab-badge.svg\" alt=\"Open In Colab\"/></a>"
      ]
    },
    {
      "cell_type": "markdown",
      "source": [
        "# **Data_Augmentation**\n",
        "\n"
      ],
      "metadata": {
        "id": "wILu5ISEJipZ"
      }
    },
    {
      "cell_type": "code",
      "execution_count": 2,
      "metadata": {
        "colab": {
          "base_uri": "https://localhost:8080/"
        },
        "id": "DB6Y6JxYJhNG",
        "outputId": "d65fdcf1-aada-4632-b445-a71d45093a28"
      },
      "outputs": [
        {
          "output_type": "stream",
          "name": "stdout",
          "text": [
            "Mounted at /content/drive\n"
          ]
        }
      ],
      "source": [
        "from google.colab import drive\n",
        "drive.mount('/content/drive')"
      ]
    },
    {
      "cell_type": "code",
      "source": [
        "data_dir = \"/content/drive/MyDrive/DL_Project/realWaste_Augmented2\"\n",
        "test_dir = \"/content/drive/MyDrive/DL_Project/realWaste_Augmented_test2\""
      ],
      "metadata": {
        "id": "1ipkoHfhJtLg"
      },
      "execution_count": 7,
      "outputs": []
    },
    {
      "cell_type": "code",
      "source": [
        "from tensorflow.keras.preprocessing.image import ImageDataGenerator, img_to_array, load_img\n",
        "import numpy as np\n",
        "import os\n",
        "import shutil\n",
        "\n",
        "# Define paths\n",
        "original_data_dir = \"/content/drive/MyDrive/DL_Project/realWaste_Augmented\"  # Update this to your local path\n",
        "augmented_data_dir = \"/content/drive/MyDrive/DL_Project/realWaste_Augmented2\"  # Update this to your local path\n",
        "\n",
        "# Create the augmented directory if it doesn't exist\n",
        "os.makedirs(augmented_data_dir, exist_ok=True)\n",
        "\n",
        "# Initialize ImageDataGenerator with augmentation options\n",
        "datagen = ImageDataGenerator(\n",
        "    rotation_range=30,  # Increased rotation for more variety\n",
        "    width_shift_range=0.25,  # Slightly increased shifts\n",
        "    height_shift_range=0.25,\n",
        "    shear_range=0.25,\n",
        "    zoom_range=0.3,  # Larger zoom variations\n",
        "    horizontal_flip=True,\n",
        "    vertical_flip=True,  # Include vertical flips\n",
        "    brightness_range=(0.8, 1.2),  # Simulate lighting changes\n",
        "    channel_shift_range=50,  # Adjust RGB channels\n",
        "    fill_mode='nearest',\n",
        ")\n",
        "\n",
        "# Loop through each class (Healthy and Rotten)\n",
        "for class_dir in os.listdir(original_data_dir):\n",
        "    class_path = os.path.join(original_data_dir, class_dir)\n",
        "    if os.path.isdir(class_path):\n",
        "        save_path = os.path.join(augmented_data_dir, class_dir)\n",
        "        os.makedirs(save_path, exist_ok=True)\n",
        "\n",
        "        # Dynamically calculate augmentation factor for this class\n",
        "        augmentation_factor = max(2, 1000 // len(os.listdir(class_path)))  # Ensure at least 5 augmentations per original\n",
        "\n",
        "        # Copy original images to augmented directory\n",
        "        for filename in os.listdir(class_path):\n",
        "            original_img_path = os.path.join(class_path, filename)\n",
        "            target_img_path = os.path.join(save_path, filename)\n",
        "            shutil.copy(original_img_path, target_img_path)  # Copy original image\n",
        "\n",
        "            # Load image for augmentation\n",
        "            img = load_img(original_img_path)\n",
        "            x = img_to_array(img)\n",
        "            x = np.expand_dims(x, axis=0)\n",
        "\n",
        "            # Generate augmented versions\n",
        "            i = 0\n",
        "            for batch in datagen.flow(x, batch_size=1, save_to_dir=save_path, save_prefix='aug', save_format='jpg'):\n",
        "                i += 1\n",
        "                if i >= augmentation_factor:\n",
        "                    break  # Stop after creating the required number of augmentations\n",
        "\n",
        "print(\"Augmentation complete. Augmented images are saved in:\", augmented_data_dir)\n"
      ],
      "metadata": {
        "colab": {
          "base_uri": "https://localhost:8080/"
        },
        "id": "HCWsyZxAKKdk",
        "outputId": "37ecab80-8551-49a0-815c-4b373877da13"
      },
      "execution_count": 4,
      "outputs": [
        {
          "output_type": "stream",
          "name": "stdout",
          "text": [
            "Augmentation complete. Augmented images are saved in: /content/drive/MyDrive/DL_Project/realWaste_Augmented2\n"
          ]
        }
      ]
    },
    {
      "cell_type": "code",
      "source": [
        "# Define paths\n",
        "original_data_dir = \"/content/drive/MyDrive/DL_Project/realWaste_Augmented_test\"  # Update this to your local path\n",
        "augmented_data_dir =\"/content/drive/MyDrive/DL_Project/realWaste_Augmented_test2\"  # Update this to your local path\n",
        "\n",
        "# Create the augmented directory if it doesn't exist\n",
        "os.makedirs(augmented_data_dir, exist_ok=True)\n",
        "\n",
        "# Initialize ImageDataGenerator with augmentation options\n",
        "datagen = ImageDataGenerator(\n",
        "    rotation_range=30,  # Increased rotation for more variety\n",
        "    width_shift_range=0.25,  # Slightly increased shifts\n",
        "    height_shift_range=0.25,\n",
        "    shear_range=0.25,\n",
        "    zoom_range=0.3,  # Larger zoom variations\n",
        "    horizontal_flip=True,\n",
        "    vertical_flip=True,  # Include vertical flips\n",
        "    brightness_range=(0.8, 1.2),  # Simulate lighting changes\n",
        "    channel_shift_range=50,  # Adjust RGB channels\n",
        "    fill_mode='nearest',\n",
        ")\n",
        "\n",
        "# Loop through each class (Healthy and Rotten)\n",
        "for class_dir in os.listdir(original_data_dir):\n",
        "    class_path = os.path.join(original_data_dir, class_dir)\n",
        "    if os.path.isdir(class_path):\n",
        "        save_path = os.path.join(augmented_data_dir, class_dir)\n",
        "        os.makedirs(save_path, exist_ok=True)\n",
        "\n",
        "        # Dynamically calculate augmentation factor for this class\n",
        "        augmentation_factor = max(2, 1000 // len(os.listdir(class_path)))  # Ensure at least 2 augmentations per original\n",
        "\n",
        "        # Copy original images to augmented directory\n",
        "        for filename in os.listdir(class_path):\n",
        "            original_img_path = os.path.join(class_path, filename)\n",
        "            target_img_path = os.path.join(save_path, filename)\n",
        "            shutil.copy(original_img_path, target_img_path)  # Copy original image\n",
        "\n",
        "            # Load image for augmentation\n",
        "            img = load_img(original_img_path)\n",
        "            x = img_to_array(img)\n",
        "            x = np.expand_dims(x, axis=0)\n",
        "\n",
        "            # Generate augmented versions\n",
        "            i = 0\n",
        "            for batch in datagen.flow(x, batch_size=1, save_to_dir=save_path, save_prefix='aug', save_format='jpg'):\n",
        "                i += 1\n",
        "                if i >= augmentation_factor:\n",
        "                    break  # Stop after creating the required number of augmentations\n",
        "\n",
        "print(\"Augmentation complete. Augmented images are saved in:\", augmented_data_dir)\n"
      ],
      "metadata": {
        "colab": {
          "base_uri": "https://localhost:8080/"
        },
        "id": "otwmn9C7KS0-",
        "outputId": "0d42d3a2-1ba8-49a7-b3e1-672e57c33217"
      },
      "execution_count": 5,
      "outputs": [
        {
          "output_type": "stream",
          "name": "stdout",
          "text": [
            "Augmentation complete. Augmented images are saved in: /content/drive/MyDrive/DL_Project/realWaste_Augmented_test2\n"
          ]
        }
      ]
    }
  ]
}