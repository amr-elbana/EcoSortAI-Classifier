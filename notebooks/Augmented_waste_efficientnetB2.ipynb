{
  "nbformat": 4,
  "nbformat_minor": 0,
  "metadata": {
    "colab": {
      "provenance": [],
      "gpuType": "T4",
      "include_colab_link": true
    },
    "kernelspec": {
      "name": "python3",
      "display_name": "Python 3"
    },
    "language_info": {
      "name": "python"
    },
    "accelerator": "GPU"
  },
  "cells": [
    {
      "cell_type": "markdown",
      "metadata": {
        "id": "view-in-github",
        "colab_type": "text"
      },
      "source": [
        "<a href=\"https://colab.research.google.com/github/amr-elbana/EcoSortAI-Classifier/blob/main/notebooks/Augmented_waste_efficientnetB2.ipynb\" target=\"_parent\"><img src=\"https://colab.research.google.com/assets/colab-badge.svg\" alt=\"Open In Colab\"/></a>"
      ]
    },
    {
      "cell_type": "code",
      "execution_count": 3,
      "metadata": {
        "colab": {
          "base_uri": "https://localhost:8080/"
        },
        "id": "XVJj1l0N3EDz",
        "outputId": "1cfc8322-d179-455c-c9f7-8b83ccdf1bb4"
      },
      "outputs": [
        {
          "output_type": "stream",
          "name": "stdout",
          "text": [
            "Mounted at /content/drive\n"
          ]
        }
      ],
      "source": [
        "from google.colab import drive\n",
        "drive.mount('/content/drive')"
      ]
    },
    {
      "cell_type": "code",
      "source": [
        "import keras,os\n",
        "import numpy as np\n",
        "from keras.models import Sequential\n",
        "from keras.layers import Dense, Conv2D, MaxPool2D , Flatten\n",
        "from tensorflow.keras.preprocessing.image import ImageDataGenerator\n",
        "import tensorflow as tf\n",
        "from tensorflow.keras.layers import Dense, Flatten, Dropout\n",
        "from tensorflow.keras.layers import Input, BatchNormalization\n",
        "from tensorflow.keras.regularizers import l2\n",
        "from tensorflow.keras.models import Model\n",
        "from tensorflow.keras.optimizers import Adam\n",
        "from tensorflow.keras.preprocessing.image import ImageDataGenerator\n",
        "from tensorflow.keras.callbacks import ModelCheckpoint, EarlyStopping, ReduceLROnPlateau\n",
        "from tensorflow.keras.applications.efficientnet import preprocess_input, EfficientNetB2"
      ],
      "metadata": {
        "id": "2x7mYa8T3Yr5"
      },
      "execution_count": 4,
      "outputs": []
    },
    {
      "cell_type": "code",
      "source": [
        "# Define paths and constants\n",
        "data_dir = \"/content/drive/MyDrive/DL_Project/realWaste_Augmented\"\n",
        "test_dir = \"/content/drive/MyDrive/DL_Project/realWaste_Augmented_test\"\n",
        "batch_size = 32\n",
        "target_size = (224, 224)\n",
        "epochs = 30"
      ],
      "metadata": {
        "id": "F2k2Atad3Yt6"
      },
      "execution_count": 5,
      "outputs": []
    },
    {
      "cell_type": "code",
      "source": [
        "# Create an ImageDataGenerator with EfficientNetB2 preprocessing and data augmentation\n",
        "train_datagen = ImageDataGenerator(\n",
        "    preprocessing_function=preprocess_input,  # EfficientNetB2-specific preprocessing\n",
        "    validation_split=0.2,  # Use 20% of data for validation\n",
        "    rotation_range=20,      # Randomly rotate images by up to 20 degrees\n",
        "    width_shift_range=0.2,   # Randomly shift images horizontally by up to 20% of the width\n",
        "    height_shift_range=0.2,  # Randomly shift images vertically by up to 20% of the height\n",
        "    shear_range=0.2,        # Randomly apply shearing transformations\n",
        "    zoom_range=0.2,         # Randomly zoom in or out on images\n",
        "    horizontal_flip=True,   # Randomly flip images horizontally\n",
        ")\n",
        "\n",
        "# Flow training data from the directory and apply preprocessing and augmentation\n",
        "train_generator = train_datagen.flow_from_directory(\n",
        "    data_dir,\n",
        "    target_size=target_size,      # Resize images to EfficientNetB2 input size\n",
        "    batch_size=batch_size,\n",
        "    class_mode='binary',          # Binary classification\n",
        "    subset='training',            # Use 80% of data for training\n",
        "    seed=42,                      # Set seed for reproducibility\n",
        "    shuffle=True                  # Shuffle the data to improve training\n",
        ")\n",
        "\n",
        "# Flow validation data from the directory and apply preprocessing (no augmentation for validation)\n",
        "validation_generator = train_datagen.flow_from_directory(\n",
        "    data_dir,\n",
        "    target_size=target_size,      # Resize images to EfficientNetB2 input size\n",
        "    batch_size=batch_size,\n",
        "    class_mode='binary',          # Binary classification\n",
        "    subset='validation',          # Use 20% of data for validation\n",
        "    shuffle=False                 # No need to shuffle validation data\n",
        ")\n",
        "\n",
        "# ... (rest of the code remains the same)\n",
        "\n",
        "# Check the number of samples in each generator\n",
        "print(f\"Training samples: {train_generator.samples}\")\n",
        "print(f\"Validation samples: {validation_generator.samples}\")\n",
        "print(f\"Training batches per epoch: {len(train_generator)}\")\n",
        "print(f\"Validation batches per epoch: {len(validation_generator)}\")"
      ],
      "metadata": {
        "id": "GL-o86dK3YxJ",
        "colab": {
          "base_uri": "https://localhost:8080/"
        },
        "outputId": "fe7987cf-bfb6-4107-c321-89c174e407c6"
      },
      "execution_count": 6,
      "outputs": [
        {
          "output_type": "stream",
          "name": "stdout",
          "text": [
            "Found 4020 images belonging to 2 classes.\n",
            "Found 1003 images belonging to 2 classes.\n",
            "Training samples: 4020\n",
            "Validation samples: 1003\n",
            "Training batches per epoch: 126\n",
            "Validation batches per epoch: 32\n"
          ]
        }
      ]
    },
    {
      "cell_type": "code",
      "source": [
        "# Create an ImageDataGenerator for EfficientNetB2 preprocessing (no augmentation for the test set)\n",
        "test_datagen = ImageDataGenerator(\n",
        "    preprocessing_function=preprocess_input  # EfficientNetB2-specific preprocessing\n",
        ")\n",
        "\n",
        "# Flow data from the test directory and apply preprocessing\n",
        "test_generator = test_datagen.flow_from_directory(\n",
        "    test_dir,\n",
        "    target_size=target_size,  # efficientnetB2 input size\n",
        "    batch_size=batch_size,\n",
        "    class_mode='binary',     # Binary classification for the test set\n",
        "    shuffle=False            # Do not shuffle test data to keep results consistent\n",
        ")\n",
        "\n",
        "# Check the number of samples in the test set\n",
        "print(f\"Test samples: {test_generator.samples}\")\n",
        "print(f\"Test batches: {len(test_generator)}\")"
      ],
      "metadata": {
        "id": "17sLRFDF3YzQ",
        "colab": {
          "base_uri": "https://localhost:8080/"
        },
        "outputId": "d90fdd29-d7c5-4cba-a389-ca992bc28759"
      },
      "execution_count": 7,
      "outputs": [
        {
          "output_type": "stream",
          "name": "stdout",
          "text": [
            "Found 1255 images belonging to 2 classes.\n",
            "Test samples: 1255\n",
            "Test batches: 40\n"
          ]
        }
      ]
    },
    {
      "cell_type": "code",
      "source": [
        "\"\"\"EfficientNetB2 is a functional model, and its layers are interdependent.\n",
        "Adding the entire model instead of individual layers ensures the integrity of its structure,\n",
        " preventing errors during training.\n",
        " Using GlobalAveragePooling2D further optimizes the architecture for the task.\"\"\"\n",
        "\n",
        "import os\n",
        "from tensorflow.keras.layers import GlobalAveragePooling2D\n",
        "def create_model():\n",
        "    # Load EfficientNetB2 model with pretrained weights, excluding the top (fully connected) layers\n",
        "    efficientnet_base = EfficientNetB2(weights='imagenet', include_top=False, input_shape=(224, 224, 3))\n",
        "\n",
        "    # Freeze the layers of EfficientNetB2 to retain the pre-trained weights\n",
        "    efficientnet_base.trainable = False\n",
        "\n",
        "    # Build the model\n",
        "    model = Sequential([\n",
        "        efficientnet_base,  # Add the entire base model\n",
        "        GlobalAveragePooling2D(),  # Use global pooling instead of Flatten, This is more efficient and typically used for pre-trained convolutional models.\n",
        "        Dense(256, activation='relu'),\n",
        "        Dropout(0.5),\n",
        "        Dense(256, activation='relu'),\n",
        "        Dropout(0.5),\n",
        "        Dense(1, activation='sigmoid')  # For binary classification\n",
        "    ])\n",
        "\n",
        "    # Compile the model\n",
        "    model.compile(optimizer=\"adam\", loss=\"binary_crossentropy\", metrics=[\"accuracy\"])\n",
        "    return model\n",
        "\n",
        "# Define the model\n",
        "model = create_model()\n"
      ],
      "metadata": {
        "id": "ULa1TqKF3Y-2",
        "colab": {
          "base_uri": "https://localhost:8080/"
        },
        "outputId": "2a02f6dc-05b4-4200-8046-1cc0974ff528"
      },
      "execution_count": 8,
      "outputs": [
        {
          "output_type": "stream",
          "name": "stdout",
          "text": [
            "Downloading data from https://storage.googleapis.com/keras-applications/efficientnetb2_notop.h5\n",
            "\u001b[1m31790344/31790344\u001b[0m \u001b[32m━━━━━━━━━━━━━━━━━━━━\u001b[0m\u001b[37m\u001b[0m \u001b[1m2s\u001b[0m 0us/step\n"
          ]
        }
      ]
    },
    {
      "cell_type": "code",
      "source": [
        "# Define callbacks\n",
        "checkpoint_path = \"/content/drive/MyDrive/DL_Project/Augmented_Models/Waste_Augmented_EfficientNetB2_{epoch:02d}-{val_accuracy:0.2f}.keras\"\n",
        "\n",
        "# ModelCheckpoint: Save best model based on val_accuracy\n",
        "checkpoint = ModelCheckpoint(\n",
        "    checkpoint_path,\n",
        "    monitor='val_accuracy',\n",
        "    verbose=1,\n",
        "    save_best_only=True,\n",
        "    mode='max'\n",
        ")\n",
        "\n",
        "early_stopping_monitor = EarlyStopping(patience = 10)\n",
        "\n",
        "# Train the model\n",
        "History = model.fit(\n",
        "    train_generator,\n",
        "    validation_data=validation_generator,\n",
        "    epochs=epochs,\n",
        "    callbacks=[checkpoint, early_stopping_monitor]\n",
        ")\n",
        "model.save('/content/drive/MyDrive/DL_Project/Augmented_Models/Augmented_EfficientNetB2_best_model.h5')"
      ],
      "metadata": {
        "id": "fD9xlqdg3ZAl",
        "colab": {
          "base_uri": "https://localhost:8080/"
        },
        "outputId": "e9382b0b-4382-4954-d349-cdfb0bc7275b"
      },
      "execution_count": 9,
      "outputs": [
        {
          "output_type": "stream",
          "name": "stdout",
          "text": [
            "Epoch 1/30\n"
          ]
        },
        {
          "output_type": "stream",
          "name": "stderr",
          "text": [
            "/usr/local/lib/python3.10/dist-packages/keras/src/trainers/data_adapters/py_dataset_adapter.py:122: UserWarning: Your `PyDataset` class should call `super().__init__(**kwargs)` in its constructor. `**kwargs` can include `workers`, `use_multiprocessing`, `max_queue_size`. Do not pass these arguments to `fit()`, as they will be ignored.\n",
            "  self._warn_if_super_not_called()\n"
          ]
        },
        {
          "output_type": "stream",
          "name": "stdout",
          "text": [
            "\u001b[1m126/126\u001b[0m \u001b[32m━━━━━━━━━━━━━━━━━━━━\u001b[0m\u001b[37m\u001b[0m \u001b[1m0s\u001b[0m 13s/step - accuracy: 0.8242 - loss: 0.3742 \n",
            "Epoch 1: val_accuracy improved from -inf to 0.77966, saving model to /content/drive/MyDrive/DL_Project/Augmented_Models/Waste_Augmented_EfficientNetB2_01-0.78.keras\n",
            "\u001b[1m126/126\u001b[0m \u001b[32m━━━━━━━━━━━━━━━━━━━━\u001b[0m\u001b[37m\u001b[0m \u001b[1m2134s\u001b[0m 16s/step - accuracy: 0.8247 - loss: 0.3734 - val_accuracy: 0.7797 - val_loss: 0.5140\n",
            "Epoch 2/30\n",
            "\u001b[1m126/126\u001b[0m \u001b[32m━━━━━━━━━━━━━━━━━━━━\u001b[0m\u001b[37m\u001b[0m \u001b[1m0s\u001b[0m 551ms/step - accuracy: 0.9288 - loss: 0.1790\n",
            "Epoch 2: val_accuracy improved from 0.77966 to 0.82552, saving model to /content/drive/MyDrive/DL_Project/Augmented_Models/Waste_Augmented_EfficientNetB2_02-0.83.keras\n",
            "\u001b[1m126/126\u001b[0m \u001b[32m━━━━━━━━━━━━━━━━━━━━\u001b[0m\u001b[37m\u001b[0m \u001b[1m91s\u001b[0m 697ms/step - accuracy: 0.9288 - loss: 0.1790 - val_accuracy: 0.8255 - val_loss: 0.3802\n",
            "Epoch 3/30\n",
            "\u001b[1m126/126\u001b[0m \u001b[32m━━━━━━━━━━━━━━━━━━━━\u001b[0m\u001b[37m\u001b[0m \u001b[1m0s\u001b[0m 545ms/step - accuracy: 0.9402 - loss: 0.1513\n",
            "Epoch 3: val_accuracy did not improve from 0.82552\n",
            "\u001b[1m126/126\u001b[0m \u001b[32m━━━━━━━━━━━━━━━━━━━━\u001b[0m\u001b[37m\u001b[0m \u001b[1m92s\u001b[0m 695ms/step - accuracy: 0.9402 - loss: 0.1513 - val_accuracy: 0.8225 - val_loss: 0.4229\n",
            "Epoch 4/30\n",
            "\u001b[1m126/126\u001b[0m \u001b[32m━━━━━━━━━━━━━━━━━━━━\u001b[0m\u001b[37m\u001b[0m \u001b[1m0s\u001b[0m 555ms/step - accuracy: 0.9410 - loss: 0.1438\n",
            "Epoch 4: val_accuracy did not improve from 0.82552\n",
            "\u001b[1m126/126\u001b[0m \u001b[32m━━━━━━━━━━━━━━━━━━━━\u001b[0m\u001b[37m\u001b[0m \u001b[1m91s\u001b[0m 698ms/step - accuracy: 0.9410 - loss: 0.1438 - val_accuracy: 0.8046 - val_loss: 0.4891\n",
            "Epoch 5/30\n",
            "\u001b[1m126/126\u001b[0m \u001b[32m━━━━━━━━━━━━━━━━━━━━\u001b[0m\u001b[37m\u001b[0m \u001b[1m0s\u001b[0m 550ms/step - accuracy: 0.9498 - loss: 0.1195\n",
            "Epoch 5: val_accuracy improved from 0.82552 to 0.83151, saving model to /content/drive/MyDrive/DL_Project/Augmented_Models/Waste_Augmented_EfficientNetB2_05-0.83.keras\n",
            "\u001b[1m126/126\u001b[0m \u001b[32m━━━━━━━━━━━━━━━━━━━━\u001b[0m\u001b[37m\u001b[0m \u001b[1m143s\u001b[0m 701ms/step - accuracy: 0.9498 - loss: 0.1195 - val_accuracy: 0.8315 - val_loss: 0.4079\n",
            "Epoch 6/30\n",
            "\u001b[1m126/126\u001b[0m \u001b[32m━━━━━━━━━━━━━━━━━━━━\u001b[0m\u001b[37m\u001b[0m \u001b[1m0s\u001b[0m 559ms/step - accuracy: 0.9609 - loss: 0.1007\n",
            "Epoch 6: val_accuracy improved from 0.83151 to 0.85145, saving model to /content/drive/MyDrive/DL_Project/Augmented_Models/Waste_Augmented_EfficientNetB2_06-0.85.keras\n",
            "\u001b[1m126/126\u001b[0m \u001b[32m━━━━━━━━━━━━━━━━━━━━\u001b[0m\u001b[37m\u001b[0m \u001b[1m144s\u001b[0m 729ms/step - accuracy: 0.9609 - loss: 0.1007 - val_accuracy: 0.8514 - val_loss: 0.3672\n",
            "Epoch 7/30\n",
            "\u001b[1m126/126\u001b[0m \u001b[32m━━━━━━━━━━━━━━━━━━━━\u001b[0m\u001b[37m\u001b[0m \u001b[1m0s\u001b[0m 556ms/step - accuracy: 0.9596 - loss: 0.1030\n",
            "Epoch 7: val_accuracy improved from 0.85145 to 0.88036, saving model to /content/drive/MyDrive/DL_Project/Augmented_Models/Waste_Augmented_EfficientNetB2_07-0.88.keras\n",
            "\u001b[1m126/126\u001b[0m \u001b[32m━━━━━━━━━━━━━━━━━━━━\u001b[0m\u001b[37m\u001b[0m \u001b[1m92s\u001b[0m 706ms/step - accuracy: 0.9596 - loss: 0.1029 - val_accuracy: 0.8804 - val_loss: 0.3702\n",
            "Epoch 8/30\n",
            "\u001b[1m126/126\u001b[0m \u001b[32m━━━━━━━━━━━━━━━━━━━━\u001b[0m\u001b[37m\u001b[0m \u001b[1m0s\u001b[0m 547ms/step - accuracy: 0.9725 - loss: 0.0777\n",
            "Epoch 8: val_accuracy did not improve from 0.88036\n",
            "\u001b[1m126/126\u001b[0m \u001b[32m━━━━━━━━━━━━━━━━━━━━\u001b[0m\u001b[37m\u001b[0m \u001b[1m141s\u001b[0m 688ms/step - accuracy: 0.9725 - loss: 0.0778 - val_accuracy: 0.8704 - val_loss: 0.3300\n",
            "Epoch 9/30\n",
            "\u001b[1m126/126\u001b[0m \u001b[32m━━━━━━━━━━━━━━━━━━━━\u001b[0m\u001b[37m\u001b[0m \u001b[1m0s\u001b[0m 545ms/step - accuracy: 0.9564 - loss: 0.0949\n",
            "Epoch 9: val_accuracy did not improve from 0.88036\n",
            "\u001b[1m126/126\u001b[0m \u001b[32m━━━━━━━━━━━━━━━━━━━━\u001b[0m\u001b[37m\u001b[0m \u001b[1m90s\u001b[0m 688ms/step - accuracy: 0.9564 - loss: 0.0948 - val_accuracy: 0.8654 - val_loss: 0.3556\n",
            "Epoch 10/30\n",
            "\u001b[1m126/126\u001b[0m \u001b[32m━━━━━━━━━━━━━━━━━━━━\u001b[0m\u001b[37m\u001b[0m \u001b[1m0s\u001b[0m 553ms/step - accuracy: 0.9764 - loss: 0.0704\n",
            "Epoch 10: val_accuracy did not improve from 0.88036\n",
            "\u001b[1m126/126\u001b[0m \u001b[32m━━━━━━━━━━━━━━━━━━━━\u001b[0m\u001b[37m\u001b[0m \u001b[1m143s\u001b[0m 694ms/step - accuracy: 0.9763 - loss: 0.0704 - val_accuracy: 0.8504 - val_loss: 0.4027\n",
            "Epoch 11/30\n",
            "\u001b[1m126/126\u001b[0m \u001b[32m━━━━━━━━━━━━━━━━━━━━\u001b[0m\u001b[37m\u001b[0m \u001b[1m0s\u001b[0m 554ms/step - accuracy: 0.9711 - loss: 0.0773\n",
            "Epoch 11: val_accuracy did not improve from 0.88036\n",
            "\u001b[1m126/126\u001b[0m \u001b[32m━━━━━━━━━━━━━━━━━━━━\u001b[0m\u001b[37m\u001b[0m \u001b[1m144s\u001b[0m 710ms/step - accuracy: 0.9711 - loss: 0.0773 - val_accuracy: 0.8355 - val_loss: 0.4030\n",
            "Epoch 12/30\n",
            "\u001b[1m126/126\u001b[0m \u001b[32m━━━━━━━━━━━━━━━━━━━━\u001b[0m\u001b[37m\u001b[0m \u001b[1m0s\u001b[0m 553ms/step - accuracy: 0.9760 - loss: 0.0677\n",
            "Epoch 12: val_accuracy did not improve from 0.88036\n",
            "\u001b[1m126/126\u001b[0m \u001b[32m━━━━━━━━━━━━━━━━━━━━\u001b[0m\u001b[37m\u001b[0m \u001b[1m140s\u001b[0m 698ms/step - accuracy: 0.9761 - loss: 0.0677 - val_accuracy: 0.8744 - val_loss: 0.3730\n",
            "Epoch 13/30\n",
            "\u001b[1m126/126\u001b[0m \u001b[32m━━━━━━━━━━━━━━━━━━━━\u001b[0m\u001b[37m\u001b[0m \u001b[1m0s\u001b[0m 542ms/step - accuracy: 0.9814 - loss: 0.0625\n",
            "Epoch 13: val_accuracy did not improve from 0.88036\n",
            "\u001b[1m126/126\u001b[0m \u001b[32m━━━━━━━━━━━━━━━━━━━━\u001b[0m\u001b[37m\u001b[0m \u001b[1m92s\u001b[0m 697ms/step - accuracy: 0.9814 - loss: 0.0626 - val_accuracy: 0.8544 - val_loss: 0.4259\n",
            "Epoch 14/30\n",
            "\u001b[1m126/126\u001b[0m \u001b[32m━━━━━━━━━━━━━━━━━━━━\u001b[0m\u001b[37m\u001b[0m \u001b[1m0s\u001b[0m 556ms/step - accuracy: 0.9795 - loss: 0.0543\n",
            "Epoch 14: val_accuracy did not improve from 0.88036\n",
            "\u001b[1m126/126\u001b[0m \u001b[32m━━━━━━━━━━━━━━━━━━━━\u001b[0m\u001b[37m\u001b[0m \u001b[1m141s\u001b[0m 698ms/step - accuracy: 0.9794 - loss: 0.0543 - val_accuracy: 0.8584 - val_loss: 0.3859\n",
            "Epoch 15/30\n",
            "\u001b[1m126/126\u001b[0m \u001b[32m━━━━━━━━━━━━━━━━━━━━\u001b[0m\u001b[37m\u001b[0m \u001b[1m0s\u001b[0m 535ms/step - accuracy: 0.9780 - loss: 0.0570\n",
            "Epoch 15: val_accuracy improved from 0.88036 to 0.89731, saving model to /content/drive/MyDrive/DL_Project/Augmented_Models/Waste_Augmented_EfficientNetB2_15-0.90.keras\n",
            "\u001b[1m126/126\u001b[0m \u001b[32m━━━━━━━━━━━━━━━━━━━━\u001b[0m\u001b[37m\u001b[0m \u001b[1m143s\u001b[0m 692ms/step - accuracy: 0.9780 - loss: 0.0570 - val_accuracy: 0.8973 - val_loss: 0.3378\n",
            "Epoch 16/30\n",
            "\u001b[1m126/126\u001b[0m \u001b[32m━━━━━━━━━━━━━━━━━━━━\u001b[0m\u001b[37m\u001b[0m \u001b[1m0s\u001b[0m 550ms/step - accuracy: 0.9824 - loss: 0.0465\n",
            "Epoch 16: val_accuracy did not improve from 0.89731\n",
            "\u001b[1m126/126\u001b[0m \u001b[32m━━━━━━━━━━━━━━━━━━━━\u001b[0m\u001b[37m\u001b[0m \u001b[1m141s\u001b[0m 692ms/step - accuracy: 0.9824 - loss: 0.0465 - val_accuracy: 0.8584 - val_loss: 0.4167\n",
            "Epoch 17/30\n",
            "\u001b[1m126/126\u001b[0m \u001b[32m━━━━━━━━━━━━━━━━━━━━\u001b[0m\u001b[37m\u001b[0m \u001b[1m0s\u001b[0m 548ms/step - accuracy: 0.9840 - loss: 0.0443\n",
            "Epoch 17: val_accuracy did not improve from 0.89731\n",
            "\u001b[1m126/126\u001b[0m \u001b[32m━━━━━━━━━━━━━━━━━━━━\u001b[0m\u001b[37m\u001b[0m \u001b[1m142s\u001b[0m 690ms/step - accuracy: 0.9840 - loss: 0.0443 - val_accuracy: 0.8694 - val_loss: 0.4151\n",
            "Epoch 18/30\n",
            "\u001b[1m126/126\u001b[0m \u001b[32m━━━━━━━━━━━━━━━━━━━━\u001b[0m\u001b[37m\u001b[0m \u001b[1m0s\u001b[0m 558ms/step - accuracy: 0.9815 - loss: 0.0490\n",
            "Epoch 18: val_accuracy did not improve from 0.89731\n",
            "\u001b[1m126/126\u001b[0m \u001b[32m━━━━━━━━━━━━━━━━━━━━\u001b[0m\u001b[37m\u001b[0m \u001b[1m94s\u001b[0m 722ms/step - accuracy: 0.9815 - loss: 0.0490 - val_accuracy: 0.8853 - val_loss: 0.3554\n"
          ]
        },
        {
          "output_type": "stream",
          "name": "stderr",
          "text": [
            "WARNING:absl:You are saving your model as an HDF5 file via `model.save()` or `keras.saving.save_model(model)`. This file format is considered legacy. We recommend using instead the native Keras format, e.g. `model.save('my_model.keras')` or `keras.saving.save_model(model, 'my_model.keras')`. \n"
          ]
        }
      ]
    },
    {
      "cell_type": "code",
      "source": [
        "import matplotlib.pyplot as plt\n",
        "\n",
        "# Extract the training history\n",
        "history = History.history\n",
        "\n",
        "# Plot training & validation accuracy\n",
        "plt.figure(figsize=(12, 6))\n",
        "\n",
        "plt.subplot(1, 2, 1)\n",
        "plt.plot(history['accuracy'], label='Train Accuracy')\n",
        "plt.plot(history['val_accuracy'], label='Validation Accuracy')\n",
        "plt.title('Model Accuracy')\n",
        "plt.xlabel('Epochs')\n",
        "plt.ylabel('Accuracy')\n",
        "plt.legend()\n",
        "\n",
        "# Plot training & validation loss\n",
        "plt.subplot(1, 2, 2)\n",
        "plt.plot(history['loss'], label='Train Loss')\n",
        "plt.plot(history['val_loss'], label='Validation Loss')\n",
        "plt.title('Model Loss')\n",
        "plt.xlabel('Epochs')\n",
        "plt.ylabel('Loss')\n",
        "plt.legend()\n",
        "\n",
        "plt.tight_layout()\n",
        "plt.show()"
      ],
      "metadata": {
        "id": "cXawEAu03ZL_",
        "colab": {
          "base_uri": "https://localhost:8080/",
          "height": 607
        },
        "outputId": "65e1e04e-877a-44cc-feed-82f20c658603"
      },
      "execution_count": 10,
      "outputs": [
        {
          "output_type": "display_data",
          "data": {
            "text/plain": [
              "<Figure size 1200x600 with 2 Axes>"
            ],
            "image/png": "[encoded data removed]"
          },
          "metadata": {}
        }
      ]
    },
    {
      "cell_type": "code",
      "source": [
        "final_train_acc = History.history['accuracy'][-1]\n",
        "final_val_acc = History.history['val_accuracy'][-1]\n",
        "final_train_loss = History.history['loss'][-1]\n",
        "final_val_loss = History.history['val_loss'][-1]\n",
        "\n",
        "print(f\"Final Training Accuracy: {final_train_acc:.4f}\")\n",
        "print(f\"Final Validation Accuracy: {final_val_acc:.4f}\")\n",
        "print(f\"Final Training Loss: {final_train_loss:.4f}\")\n",
        "print(f\"Final Validation Loss: {final_val_loss:.4f}\")\n"
      ],
      "metadata": {
        "id": "Z7_yH7oQ3ZVJ",
        "colab": {
          "base_uri": "https://localhost:8080/"
        },
        "outputId": "04ef4d33-1619-48cc-8da9-0e0fcaa1fc39"
      },
      "execution_count": 11,
      "outputs": [
        {
          "output_type": "stream",
          "name": "stdout",
          "text": [
            "Final Training Accuracy: 0.9808\n",
            "Final Validation Accuracy: 0.8853\n",
            "Final Training Loss: 0.0522\n",
            "Final Validation Loss: 0.3554\n"
          ]
        }
      ]
    },
    {
      "cell_type": "code",
      "source": [
        "if 'lr' in History.history:\n",
        "    plt.plot(History.history['lr'], label='Learning Rate')\n",
        "    plt.title('Learning Rate Over Epochs')\n",
        "    plt.xlabel('Epochs')\n",
        "    plt.ylabel('Learning Rate')\n",
        "    plt.legend()\n",
        "    plt.show()"
      ],
      "metadata": {
        "id": "YdRXjM8v4OBV"
      },
      "execution_count": 12,
      "outputs": []
    },
    {
      "cell_type": "code",
      "source": [],
      "metadata": {
        "id": "WpWFIsWI4ONA"
      },
      "execution_count": 12,
      "outputs": []
    },
    {
      "cell_type": "code",
      "source": [
        "import json\n",
        "\n",
        "# Save history to a JSON file on Google Drive\n",
        "with open(\"/content/drive/MyDrive/DL_Project/Augmented_Models/training_history.json\", \"w\") as f:\n",
        "    json.dump(History.history, f)\n",
        "\n",
        "# Load the history later\n",
        "with open(\"/content/drive/MyDrive/DL_Project/Augmented_Models/training_history.json\", \"r\") as f:\n",
        "    loaded_history = json.load(f)\n",
        "    print(loaded_history)"
      ],
      "metadata": {
        "id": "dyCzTb_Z4UNV",
        "colab": {
          "base_uri": "https://localhost:8080/"
        },
        "outputId": "60c6f26f-107a-48ed-9599-bc89da0ecfb4"
      },
      "execution_count": 13,
      "outputs": [
        {
          "output_type": "stream",
          "name": "stdout",
          "text": [
            "{'accuracy': [0.8828358054161072, 0.9298507571220398, 0.9425373077392578, 0.9462686777114868, 0.9547263383865356, 0.9606965184211731, 0.9644278883934021, 0.9659203886985779, 0.9634328484535217, 0.9711442589759827, 0.9703980088233948, 0.9771144390106201, 0.9746268391609192, 0.9763681888580322, 0.9753731489181519, 0.9808457493782043, 0.9825870394706726, 0.9808457493782043], 'loss': [0.2723389267921448, 0.17815834283828735, 0.14486555755138397, 0.14142638444900513, 0.12096695601940155, 0.10102999955415726, 0.0937771424651146, 0.0906648263335228, 0.09010950475931168, 0.07888087630271912, 0.07683326303958893, 0.06853732466697693, 0.07273469865322113, 0.06172473728656769, 0.06301534920930862, 0.05207148566842079, 0.050578147172927856, 0.052177514880895615], 'val_accuracy': [0.7796609997749329, 0.8255234360694885, 0.8225324153900146, 0.8045862317085266, 0.8315054774284363, 0.8514456748962402, 0.8803589344024658, 0.8703888058662415, 0.8654037714004517, 0.8504486680030823, 0.8354935050010681, 0.8743768930435181, 0.8544366955757141, 0.858424723148346, 0.8973080515861511, 0.858424723148346, 0.8693917989730835, 0.8853439688682556], 'val_loss': [0.513978898525238, 0.38016751408576965, 0.42288485169410706, 0.4890545904636383, 0.40785080194473267, 0.3672066628932953, 0.3702091574668884, 0.3299666941165924, 0.3556201756000519, 0.40274420380592346, 0.40300512313842773, 0.37297648191452026, 0.4258687198162079, 0.38585057854652405, 0.337826132774353, 0.41671785712242126, 0.41511866450309753, 0.3553752899169922]}\n"
          ]
        }
      ]
    },
    {
      "cell_type": "code",
      "source": [
        "from sklearn.metrics import confusion_matrix, classification_report, f1_score, accuracy_score\n",
        "import numpy as np\n",
        "import tensorflow as tf\n",
        "checkpoint_path = '/content/drive/MyDrive/DL_Project/Augmented_Models/Augmented_EfficientNetB2_best_model.h5'\n",
        "model = tf.keras.models.load_model(checkpoint_path)\n",
        "\n",
        "test_generator.reset()\n",
        "predictions = model.predict(test_generator, steps=len(test_generator), verbose=1)\n",
        "\n",
        "# Convert predictions to binary labels\n",
        "predicted_labels = np.where(predictions > 0.5, 1, 0).flatten()\n",
        "\n",
        "# Get the true labels\n",
        "true_labels = test_generator.classes\n",
        "\n",
        "# Confusion Matrix\n",
        "conf_matrix = confusion_matrix(true_labels, predicted_labels)\n",
        "print(\"Confusion Matrix:\\n\", conf_matrix)\n",
        "\n",
        "# Classification Report\n",
        "class_report = classification_report(true_labels, predicted_labels, target_names=['Recyclable', 'Non-Recyclable'])\n",
        "print(\"\\nClassification Report:\\n\", class_report)\n",
        "\n",
        "# Accuracy Score\n",
        "accuracy = accuracy_score(true_labels, predicted_labels)\n",
        "print(\"\\nAccuracy:\", accuracy)\n",
        "\n",
        "# F1 Score\n",
        "f1 = f1_score(true_labels, predicted_labels)\n",
        "print(\"\\nF1 Score:\", f1)\n"
      ],
      "metadata": {
        "id": "5PX8Crse4UOe",
        "colab": {
          "base_uri": "https://localhost:8080/"
        },
        "outputId": "c3c9c394-6aae-4bca-c116-0bd26ffae4f5"
      },
      "execution_count": 14,
      "outputs": [
        {
          "output_type": "stream",
          "name": "stderr",
          "text": [
            "WARNING:absl:Compiled the loaded model, but the compiled metrics have yet to be built. `model.compile_metrics` will be empty until you train or evaluate the model.\n",
            "/usr/local/lib/python3.10/dist-packages/keras/src/trainers/data_adapters/py_dataset_adapter.py:122: UserWarning: Your `PyDataset` class should call `super().__init__(**kwargs)` in its constructor. `**kwargs` can include `workers`, `use_multiprocessing`, `max_queue_size`. Do not pass these arguments to `fit()`, as they will be ignored.\n",
            "  self._warn_if_super_not_called()\n"
          ]
        },
        {
          "output_type": "stream",
          "name": "stdout",
          "text": [
            "\u001b[1m40/40\u001b[0m \u001b[32m━━━━━━━━━━━━━━━━━━━━\u001b[0m\u001b[37m\u001b[0m \u001b[1m935s\u001b[0m 24s/step\n",
            "Confusion Matrix:\n",
            " [[600  37]\n",
            " [ 32 586]]\n",
            "\n",
            "Classification Report:\n",
            "                 precision    recall  f1-score   support\n",
            "\n",
            "    Recyclable       0.95      0.94      0.95       637\n",
            "Non-Recyclable       0.94      0.95      0.94       618\n",
            "\n",
            "      accuracy                           0.95      1255\n",
            "     macro avg       0.94      0.95      0.95      1255\n",
            "  weighted avg       0.95      0.95      0.95      1255\n",
            "\n",
            "\n",
            "Accuracy: 0.9450199203187251\n",
            "\n",
            "F1 Score: 0.9443996776792909\n"
          ]
        }
      ]
    },
    {
      "cell_type": "code",
      "source": [
        "# Define where to save everything\n",
        "results_save_path = \"/content/drive/MyDrive/DL_Project/Augmented_Models/Augmented_EfficientNetB2_results.txt\"\n",
        "conf_matrix_save_path = \"/content/drive/MyDrive/DL_Project/Augmented_Models/Augmented_EfficientNetB2_confusion_matrix.png\"\n",
        "with open(results_save_path, \"w\") as file:\n",
        "    file.write(f\"Accuracy: {accuracy:.4f}\\n\")\n",
        "    file.write(f\"F1 Score: {f1:.4f}\\n\")\n",
        "    file.write(f\"classification Report:\\n {class_report}\\n\")\n",
        "    file.write(f\"Confusion Matrix:\\n{conf_matrix}\\n\")\n",
        "\n",
        "print(f\"Results saved to {results_save_path}\")"
      ],
      "metadata": {
        "id": "Dkk6M6qE4aeW",
        "colab": {
          "base_uri": "https://localhost:8080/"
        },
        "outputId": "d788e6cc-7b45-4d4e-a0fb-0bd6b2ca7297"
      },
      "execution_count": 15,
      "outputs": [
        {
          "output_type": "stream",
          "name": "stdout",
          "text": [
            "Results saved to /content/drive/MyDrive/DL_Project/Augmented_Models/Augmented_EfficientNetB2_results.txt\n"
          ]
        }
      ]
    },
    {
      "cell_type": "code",
      "source": [
        "import matplotlib.pyplot as plt  # Import the plotting library and assign it to the alias 'plt'\n",
        "import seaborn as sns\n",
        "# Plot confusion matrix\n",
        "plt.figure(figsize=(6, 6))\n",
        "sns.heatmap(conf_matrix, annot=True, fmt=\"d\", cmap=\"Blues\", xticklabels=[\"Recyclable\", \"Non-Recyclable\"], yticklabels=[\"Recyclable\", \"Non-Recyclable\"])\n",
        "plt.xlabel(\"Predicted Labels\")\n",
        "plt.ylabel(\"True Labels\")\n",
        "plt.title(\"Confusion Matrix\")\n",
        "\n",
        "# Save confusion matrix as an image\n",
        "plt.savefig(conf_matrix_save_path)\n",
        "print(f\"Confusion matrix saved to {conf_matrix_save_path}\")\n",
        "from IPython.display import Image\n",
        "Image(filename=conf_matrix_save_path)\n",
        "plt.close()  # Close the plot to free up memory"
      ],
      "metadata": {
        "id": "3jHlLCr-4kL_",
        "colab": {
          "base_uri": "https://localhost:8080/"
        },
        "outputId": "4cfcd5bb-55e4-433a-f1c5-5adfad3e9736"
      },
      "execution_count": 16,
      "outputs": [
        {
          "output_type": "stream",
          "name": "stdout",
          "text": [
            "Confusion matrix saved to /content/drive/MyDrive/DL_Project/Augmented_Models/Augmented_EfficientNetB2_confusion_matrix.png\n"
          ]
        }
      ]
    },
    {
      "cell_type": "code",
      "source": [
        "from google.colab import runtime\n",
        "runtime.unassign()\n"
      ],
      "metadata": {
        "id": "KaemwFOdGyYE"
      },
      "execution_count": null,
      "outputs": []
    }
  ]
}