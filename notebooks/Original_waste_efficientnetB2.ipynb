{
  "nbformat": 4,
  "nbformat_minor": 0,
  "metadata": {
    "colab": {
      "provenance": [],
      "gpuType": "T4"
    },
    "kernelspec": {
      "name": "python3",
      "display_name": "Python 3"
    },
    "language_info": {
      "name": "python"
    },
    "accelerator": "GPU"
  },
  "cells": [
    {
      "cell_type": "code",
      "execution_count": 1,
      "metadata": {
        "colab": {
          "base_uri": "https://localhost:8080/"
        },
        "id": "XVJj1l0N3EDz",
        "outputId": "30ae7c96-c91b-43b2-a391-e375343c6442"
      },
      "outputs": [
        {
          "output_type": "stream",
          "name": "stdout",
          "text": [
            "Mounted at /content/drive\n"
          ]
        }
      ],
      "source": [
        "from google.colab import drive\n",
        "drive.mount('/content/drive')"
      ]
    },
    {
      "cell_type": "code",
      "source": [
        "import keras,os\n",
        "import numpy as np\n",
        "from keras.models import Sequential\n",
        "from keras.layers import Dense, Conv2D, MaxPool2D , Flatten\n",
        "from tensorflow.keras.preprocessing.image import ImageDataGenerator\n",
        "import tensorflow as tf\n",
        "from tensorflow.keras.layers import Dense, Flatten, Dropout\n",
        "from tensorflow.keras.layers import Input, BatchNormalization\n",
        "from tensorflow.keras.regularizers import l2\n",
        "from tensorflow.keras.models import Model\n",
        "from tensorflow.keras.optimizers import Adam\n",
        "from tensorflow.keras.preprocessing.image import ImageDataGenerator\n",
        "from tensorflow.keras.callbacks import ModelCheckpoint, EarlyStopping, ReduceLROnPlateau\n",
        "from tensorflow.keras.applications.efficientnet import preprocess_input, EfficientNetB2"
      ],
      "metadata": {
        "id": "2x7mYa8T3Yr5"
      },
      "execution_count": 2,
      "outputs": []
    },
    {
      "cell_type": "code",
      "source": [
        "# Define paths and constants\n",
        "data_dir = \"/content/drive/MyDrive/DL_Project/RealWaste\"\n",
        "test_dir = \"/content/drive/MyDrive/DL_Project/RealWaste-test\"\n",
        "batch_size = 32\n",
        "target_size = (224, 224)\n",
        "epochs = 30"
      ],
      "metadata": {
        "id": "F2k2Atad3Yt6"
      },
      "execution_count": 3,
      "outputs": []
    },
    {
      "cell_type": "code",
      "source": [
        "# Create an ImageDataGenerator with EfficientNetB2 preprocessing and data augmentation\n",
        "train_datagen = ImageDataGenerator(\n",
        "    preprocessing_function=preprocess_input,  # EfficientNetB2-specific preprocessing\n",
        "    validation_split=0.2,  # Use 20% of data for validation\n",
        ")\n",
        "\n",
        "# Flow training data from the directory and apply preprocessing and augmentation\n",
        "train_generator = train_datagen.flow_from_directory(\n",
        "    data_dir,\n",
        "    target_size=target_size,      # Resize images to EfficientNetB2 input size\n",
        "    batch_size=batch_size,\n",
        "    class_mode='binary',          # Binary classification (healthy vs rotten)\n",
        "    subset='training',            # Use 80% of data for training\n",
        "    seed=42,                      # Set seed for reproducibility\n",
        "    shuffle=True                  # Shuffle the data to improve training\n",
        ")\n",
        "\n",
        "# Flow validation data from the directory and apply preprocessing (no augmentation for validation)\n",
        "validation_generator = train_datagen.flow_from_directory(\n",
        "    data_dir,\n",
        "    target_size=target_size,      # Resize images to EfficientNetB2 input size\n",
        "    batch_size=batch_size,\n",
        "    class_mode='binary',          # Binary classification (healthy vs rotten)\n",
        "    subset='validation',          # Use 20% of data for validation\n",
        "    shuffle=False                 # No need to shuffle validation data\n",
        ")\n",
        "\n",
        "# ... (rest of the code remains the same)\n",
        "\n",
        "# Check the number of samples in each generator\n",
        "print(f\"Training samples: {train_generator.samples}\")\n",
        "print(f\"Validation samples: {validation_generator.samples}\")\n",
        "print(f\"Training batches per epoch: {len(train_generator)}\")\n",
        "print(f\"Validation batches per epoch: {len(validation_generator)}\")"
      ],
      "metadata": {
        "id": "GL-o86dK3YxJ",
        "colab": {
          "base_uri": "https://localhost:8080/"
        },
        "outputId": "63700c8b-78da-4e2f-97bb-c999692124d0"
      },
      "execution_count": 4,
      "outputs": [
        {
          "output_type": "stream",
          "name": "stdout",
          "text": [
            "Found 3043 images belonging to 2 classes.\n",
            "Found 759 images belonging to 2 classes.\n",
            "Training samples: 3043\n",
            "Validation samples: 759\n",
            "Training batches per epoch: 96\n",
            "Validation batches per epoch: 24\n"
          ]
        }
      ]
    },
    {
      "cell_type": "code",
      "source": [
        "# Create an ImageDataGenerator for EfficientNetB2 preprocessing (no augmentation for the test set)\n",
        "test_datagen = ImageDataGenerator(\n",
        "    preprocessing_function=preprocess_input  # EfficientNetB2-specific preprocessing\n",
        ")\n",
        "\n",
        "# Flow data from the test directory and apply preprocessing\n",
        "test_generator = test_datagen.flow_from_directory(\n",
        "    test_dir,\n",
        "    target_size=(224, 224),  # efficientnetB2 input size\n",
        "    batch_size=batch_size,\n",
        "    class_mode='binary',     # Binary classification for the test set\n",
        "    shuffle=False            # Do not shuffle test data to keep results consistent\n",
        ")\n",
        "\n",
        "# Check the number of samples in the test set\n",
        "print(f\"Test samples: {test_generator.samples}\")\n",
        "print(f\"Test batches: {len(test_generator)}\")"
      ],
      "metadata": {
        "id": "17sLRFDF3YzQ",
        "colab": {
          "base_uri": "https://localhost:8080/"
        },
        "outputId": "b1ab73d3-efe5-4fa9-cba3-741539901f49"
      },
      "execution_count": 5,
      "outputs": [
        {
          "output_type": "stream",
          "name": "stdout",
          "text": [
            "Found 950 images belonging to 2 classes.\n",
            "Test samples: 950\n",
            "Test batches: 30\n"
          ]
        }
      ]
    },
    {
      "cell_type": "code",
      "source": [
        "\"\"\"EfficientNetB2 is a functional model, and its layers are interdependent.\n",
        "Adding the entire model instead of individual layers ensures the integrity of its structure,\n",
        " preventing errors during training.\n",
        " Using GlobalAveragePooling2D further optimizes the architecture for the task.\"\"\"\n",
        "\n",
        "import os\n",
        "from tensorflow.keras.layers import GlobalAveragePooling2D\n",
        "def create_model():\n",
        "    # Load EfficientNetB2 model with pretrained weights, excluding the top (fully connected) layers\n",
        "    efficientnet_base = EfficientNetB2(weights='imagenet', include_top=False, input_shape=(224, 224, 3))\n",
        "\n",
        "    # Freeze the layers of EfficientNetB2 to retain the pre-trained weights\n",
        "    efficientnet_base.trainable = False\n",
        "\n",
        "    # Build the model\n",
        "    model = Sequential([\n",
        "        efficientnet_base,  # Add the entire base model\n",
        "        GlobalAveragePooling2D(),  # Use global pooling instead of Flatten, This is more efficient and typically used for pre-trained convolutional models.\n",
        "        Dense(256, activation='relu'),\n",
        "        Dropout(0.5),\n",
        "        Dense(256, activation='relu'),\n",
        "        Dropout(0.5),\n",
        "        Dense(1, activation='sigmoid')  # For binary classification\n",
        "    ])\n",
        "\n",
        "    # Compile the model\n",
        "    model.compile(optimizer=\"adam\", loss=\"binary_crossentropy\", metrics=[\"accuracy\"])\n",
        "    return model\n",
        "\n",
        "# Ensure the directory for checkpoints exists\n",
        "model_dir = \"/content/drive/MyDrive/sh/final project/Original-Models\"\n",
        "if not os.path.exists(model_dir):\n",
        "    os.makedirs(model_dir)\n",
        "\n",
        "# Define the model\n",
        "model = create_model()\n"
      ],
      "metadata": {
        "id": "ULa1TqKF3Y-2",
        "colab": {
          "base_uri": "https://localhost:8080/"
        },
        "outputId": "67934832-ff77-4e37-a811-4e4d5a8df012"
      },
      "execution_count": 6,
      "outputs": [
        {
          "output_type": "stream",
          "name": "stdout",
          "text": [
            "Downloading data from https://storage.googleapis.com/keras-applications/efficientnetb2_notop.h5\n",
            "\u001b[1m31790344/31790344\u001b[0m \u001b[32m━━━━━━━━━━━━━━━━━━━━\u001b[0m\u001b[37m\u001b[0m \u001b[1m3s\u001b[0m 0us/step\n"
          ]
        }
      ]
    },
    {
      "cell_type": "code",
      "source": [
        "# Define callbacks\n",
        "checkpoint_path = \"/content/drive/MyDrive/DL_Project/Original_Models/Waste_Original_EfficientNetB2_{epoch:02d}-{val_accuracy:0.2f}.keras\"\n",
        "model_dir = \"/content/drive/MyDrive/DL_Project/Original-Models\"\n",
        "# ModelCheckpoint: Save best model based on val_accuracy\n",
        "checkpoint = ModelCheckpoint(\n",
        "    checkpoint_path,\n",
        "    monitor='val_accuracy',\n",
        "    verbose=1,\n",
        "    save_best_only=True,\n",
        "    mode='max'\n",
        ")\n",
        "\n",
        "early_stopping_monitor = EarlyStopping(patience = 5)\n",
        "\n",
        "# Train the model\n",
        "History = model.fit(\n",
        "    train_generator,\n",
        "    validation_data=validation_generator,\n",
        "    epochs=epochs,\n",
        "    callbacks=[checkpoint, early_stopping_monitor]\n",
        ")\n",
        "model.save('/content/drive/MyDrive/DL_Project/Original_Models/Original_EfficientNetB2_best_model.h5')"
      ],
      "metadata": {
        "id": "fD9xlqdg3ZAl",
        "colab": {
          "base_uri": "https://localhost:8080/"
        },
        "outputId": "46acebd0-d569-4c6a-fdb0-44d86dec15d3"
      },
      "execution_count": 7,
      "outputs": [
        {
          "metadata": {
            "tags": null
          },
          "name": "stdout",
          "output_type": "stream",
          "text": [
            "Epoch 1/30\n"
          ]
        },
        {
          "metadata": {
            "tags": null
          },
          "name": "stderr",
          "output_type": "stream",
          "text": [
            "/usr/local/lib/python3.10/dist-packages/keras/src/trainers/data_adapters/py_dataset_adapter.py:122: UserWarning: Your `PyDataset` class should call `super().__init__(**kwargs)` in its constructor. `**kwargs` can include `workers`, `use_multiprocessing`, `max_queue_size`. Do not pass these arguments to `fit()`, as they will be ignored.\n",
            "  self._warn_if_super_not_called()\n"
          ]
        },
        {
          "output_type": "stream",
          "name": "stdout",
          "text": [
            "\u001b[1m96/96\u001b[0m \u001b[32m━━━━━━━━━━━━━━━━━━━━\u001b[0m\u001b[37m\u001b[0m \u001b[1m0s\u001b[0m 14s/step - accuracy: 0.8133 - loss: 0.3889 \n",
            "Epoch 1: val_accuracy improved from -inf to 0.85244, saving model to /content/drive/MyDrive/DL_Project/Original_Models/Waste_Original_EfficientNetB2_01-0.85.keras\n",
            "\u001b[1m96/96\u001b[0m \u001b[32m━━━━━━━━━━━━━━━━━━━━\u001b[0m\u001b[37m\u001b[0m \u001b[1m1926s\u001b[0m 18s/step - accuracy: 0.8139 - loss: 0.3881 - val_accuracy: 0.8524 - val_loss: 0.3020\n",
            "Epoch 2/30\n",
            "\u001b[1m96/96\u001b[0m \u001b[32m━━━━━━━━━━━━━━━━━━━━\u001b[0m\u001b[37m\u001b[0m \u001b[1m0s\u001b[0m 228ms/step - accuracy: 0.9285 - loss: 0.1830\n",
            "Epoch 2: val_accuracy improved from 0.85244 to 0.88538, saving model to /content/drive/MyDrive/DL_Project/Original_Models/Waste_Original_EfficientNetB2_02-0.89.keras\n",
            "\u001b[1m96/96\u001b[0m \u001b[32m━━━━━━━━━━━━━━━━━━━━\u001b[0m\u001b[37m\u001b[0m \u001b[1m34s\u001b[0m 343ms/step - accuracy: 0.9286 - loss: 0.1829 - val_accuracy: 0.8854 - val_loss: 0.2753\n",
            "Epoch 3/30\n",
            "\u001b[1m96/96\u001b[0m \u001b[32m━━━━━━━━━━━━━━━━━━━━\u001b[0m\u001b[37m\u001b[0m \u001b[1m0s\u001b[0m 236ms/step - accuracy: 0.9469 - loss: 0.1530\n",
            "Epoch 3: val_accuracy improved from 0.88538 to 0.91436, saving model to /content/drive/MyDrive/DL_Project/Original_Models/Waste_Original_EfficientNetB2_03-0.91.keras\n",
            "\u001b[1m96/96\u001b[0m \u001b[32m━━━━━━━━━━━━━━━━━━━━\u001b[0m\u001b[37m\u001b[0m \u001b[1m31s\u001b[0m 305ms/step - accuracy: 0.9469 - loss: 0.1530 - val_accuracy: 0.9144 - val_loss: 0.2349\n",
            "Epoch 4/30\n",
            "\u001b[1m96/96\u001b[0m \u001b[32m━━━━━━━━━━━━━━━━━━━━\u001b[0m\u001b[37m\u001b[0m \u001b[1m0s\u001b[0m 237ms/step - accuracy: 0.9522 - loss: 0.1197\n",
            "Epoch 4: val_accuracy did not improve from 0.91436\n",
            "\u001b[1m96/96\u001b[0m \u001b[32m━━━━━━━━━━━━━━━━━━━━\u001b[0m\u001b[37m\u001b[0m \u001b[1m45s\u001b[0m 345ms/step - accuracy: 0.9522 - loss: 0.1197 - val_accuracy: 0.9051 - val_loss: 0.2664\n",
            "Epoch 5/30\n",
            "\u001b[1m96/96\u001b[0m \u001b[32m━━━━━━━━━━━━━━━━━━━━\u001b[0m\u001b[37m\u001b[0m \u001b[1m0s\u001b[0m 220ms/step - accuracy: 0.9618 - loss: 0.1026\n",
            "Epoch 5: val_accuracy did not improve from 0.91436\n",
            "\u001b[1m96/96\u001b[0m \u001b[32m━━━━━━━━━━━━━━━━━━━━\u001b[0m\u001b[37m\u001b[0m \u001b[1m28s\u001b[0m 282ms/step - accuracy: 0.9618 - loss: 0.1026 - val_accuracy: 0.9104 - val_loss: 0.2750\n",
            "Epoch 6/30\n",
            "\u001b[1m96/96\u001b[0m \u001b[32m━━━━━━━━━━━━━━━━━━━━\u001b[0m\u001b[37m\u001b[0m \u001b[1m0s\u001b[0m 232ms/step - accuracy: 0.9705 - loss: 0.0770\n",
            "Epoch 6: val_accuracy did not improve from 0.91436\n",
            "\u001b[1m96/96\u001b[0m \u001b[32m━━━━━━━━━━━━━━━━━━━━\u001b[0m\u001b[37m\u001b[0m \u001b[1m42s\u001b[0m 287ms/step - accuracy: 0.9705 - loss: 0.0770 - val_accuracy: 0.8788 - val_loss: 0.4120\n",
            "Epoch 7/30\n",
            "\u001b[1m96/96\u001b[0m \u001b[32m━━━━━━━━━━━━━━━━━━━━\u001b[0m\u001b[37m\u001b[0m \u001b[1m0s\u001b[0m 228ms/step - accuracy: 0.9701 - loss: 0.0734\n",
            "Epoch 7: val_accuracy did not improve from 0.91436\n",
            "\u001b[1m96/96\u001b[0m \u001b[32m━━━━━━━━━━━━━━━━━━━━\u001b[0m\u001b[37m\u001b[0m \u001b[1m29s\u001b[0m 285ms/step - accuracy: 0.9701 - loss: 0.0734 - val_accuracy: 0.8893 - val_loss: 0.3838\n",
            "Epoch 8/30\n",
            "\u001b[1m96/96\u001b[0m \u001b[32m━━━━━━━━━━━━━━━━━━━━\u001b[0m\u001b[37m\u001b[0m \u001b[1m0s\u001b[0m 252ms/step - accuracy: 0.9823 - loss: 0.0446\n",
            "Epoch 8: val_accuracy improved from 0.91436 to 0.91831, saving model to /content/drive/MyDrive/DL_Project/Original_Models/Waste_Original_EfficientNetB2_08-0.92.keras\n",
            "\u001b[1m96/96\u001b[0m \u001b[32m━━━━━━━━━━━━━━━━━━━━\u001b[0m\u001b[37m\u001b[0m \u001b[1m44s\u001b[0m 313ms/step - accuracy: 0.9823 - loss: 0.0448 - val_accuracy: 0.9183 - val_loss: 0.3141\n"
          ]
        },
        {
          "output_type": "stream",
          "name": "stderr",
          "text": [
            "WARNING:absl:You are saving your model as an HDF5 file via `model.save()` or `keras.saving.save_model(model)`. This file format is considered legacy. We recommend using instead the native Keras format, e.g. `model.save('my_model.keras')` or `keras.saving.save_model(model, 'my_model.keras')`. \n"
          ]
        }
      ]
    },
    {
      "cell_type": "code",
      "source": [],
      "metadata": {
        "id": "xOt2n7M_3ZEt"
      },
      "execution_count": 7,
      "outputs": []
    },
    {
      "cell_type": "code",
      "source": [
        "import matplotlib.pyplot as plt\n",
        "\n",
        "# Extract the training history\n",
        "history = History.history\n",
        "\n",
        "# Plot training & validation accuracy\n",
        "plt.figure(figsize=(12, 6))\n",
        "\n",
        "plt.subplot(1, 2, 1)\n",
        "plt.plot(history['accuracy'], label='Train Accuracy')\n",
        "plt.plot(history['val_accuracy'], label='Validation Accuracy')\n",
        "plt.title('Model Accuracy')\n",
        "plt.xlabel('Epochs')\n",
        "plt.ylabel('Accuracy')\n",
        "plt.legend()\n",
        "\n",
        "# Plot training & validation loss\n",
        "plt.subplot(1, 2, 2)\n",
        "plt.plot(history['loss'], label='Train Loss')\n",
        "plt.plot(history['val_loss'], label='Validation Loss')\n",
        "plt.title('Model Loss')\n",
        "plt.xlabel('Epochs')\n",
        "plt.ylabel('Loss')\n",
        "plt.legend()\n",
        "\n",
        "plt.tight_layout()\n",
        "plt.show()"
      ],
      "metadata": {
        "id": "cXawEAu03ZL_",
        "colab": {
          "base_uri": "https://localhost:8080/",
          "height": 349
        },
        "outputId": "ba5298b1-f824-48ba-c5a1-2f1a80d8b15f"
      },
      "execution_count": 8,
      "outputs": [
        {
          "output_type": "display_data",
          "data": {
            "text/plain": [
              "<Figure size 1200x600 with 2 Axes>"
            ],
            "image/png": "[encoded data removed]"
          },
          "metadata": {}
        }
      ]
    },
    {
      "cell_type": "code",
      "source": [
        "final_train_acc = History.history['accuracy'][-1]\n",
        "final_val_acc = History.history['val_accuracy'][-1]\n",
        "final_train_loss = History.history['loss'][-1]\n",
        "final_val_loss = History.history['val_loss'][-1]\n",
        "\n",
        "print(f\"Final Training Accuracy: {final_train_acc:.4f}\")\n",
        "print(f\"Final Validation Accuracy: {final_val_acc:.4f}\")\n",
        "print(f\"Final Training Loss: {final_train_loss:.4f}\")\n",
        "print(f\"Final Validation Loss: {final_val_loss:.4f}\")\n"
      ],
      "metadata": {
        "id": "Z7_yH7oQ3ZVJ",
        "colab": {
          "base_uri": "https://localhost:8080/"
        },
        "outputId": "9d6481b4-2cdc-493b-8634-4c6cc6c990b6"
      },
      "execution_count": 9,
      "outputs": [
        {
          "metadata": {
            "tags": null
          },
          "name": "stdout",
          "output_type": "stream",
          "text": [
            "Final Training Accuracy: 0.9786\n",
            "Final Validation Accuracy: 0.9183\n",
            "Final Training Loss: 0.0600\n",
            "Final Validation Loss: 0.3141\n"
          ]
        }
      ]
    },
    {
      "cell_type": "code",
      "source": [
        "if 'lr' in History.history:\n",
        "    plt.plot(History.history['lr'], label='Learning Rate')\n",
        "    plt.title('Learning Rate Over Epochs')\n",
        "    plt.xlabel('Epochs')\n",
        "    plt.ylabel('Learning Rate')\n",
        "    plt.legend()\n",
        "    plt.show()"
      ],
      "metadata": {
        "id": "YdRXjM8v4OBV"
      },
      "execution_count": 10,
      "outputs": []
    },
    {
      "cell_type": "code",
      "source": [],
      "metadata": {
        "id": "WpWFIsWI4ONA"
      },
      "execution_count": 10,
      "outputs": []
    },
    {
      "cell_type": "code",
      "source": [
        "import json\n",
        "\n",
        "# Save history to a JSON file on Google Drive\n",
        "with open(\"/content/drive/MyDrive/DL_Project/Original_Models/training_history.json\", \"w\") as f:\n",
        "    json.dump(History.history, f)\n",
        "\n",
        "# Load the history later\n",
        "with open(\"/content/drive/MyDrive/DL_Project/Original_Models/training_history.json\", \"r\") as f:\n",
        "    loaded_history = json.load(f)\n",
        "    print(loaded_history)"
      ],
      "metadata": {
        "id": "dyCzTb_Z4UNV",
        "colab": {
          "base_uri": "https://localhost:8080/"
        },
        "outputId": "8ec510ce-5874-41be-bbb3-bafe56794c6b"
      },
      "execution_count": 11,
      "outputs": [
        {
          "metadata": {
            "tags": null
          },
          "name": "stdout",
          "output_type": "stream",
          "text": [
            "{'accuracy': [0.8698652386665344, 0.930989146232605, 0.9461058378219604, 0.9566217660903931, 0.9592507481575012, 0.9700952768325806, 0.9737101793289185, 0.9786394834518433], 'loss': [0.30780550837516785, 0.18017825484275818, 0.15163829922676086, 0.11222394555807114, 0.10349234938621521, 0.07975340634584427, 0.07497197389602661, 0.05996350198984146], 'val_accuracy': [0.852437436580658, 0.8853754997253418, 0.9143610000610352, 0.9051383137702942, 0.9104084372520447, 0.8787878751754761, 0.8893280625343323, 0.9183135628700256], 'val_loss': [0.30195870995521545, 0.2752538025379181, 0.23486199975013733, 0.26642894744873047, 0.2750319838523865, 0.41200846433639526, 0.3837793469429016, 0.3140592575073242]}\n"
          ]
        }
      ]
    },
    {
      "cell_type": "code",
      "source": [
        "from sklearn.metrics import confusion_matrix, classification_report, f1_score, accuracy_score\n",
        "import numpy as np\n",
        "import tensorflow as tf\n",
        "checkpoint_path = '/content/drive/MyDrive/DL_Project/Original_Models/Original_EfficientNetB2_best_model.h5'\n",
        "model = tf.keras.models.load_model(checkpoint_path)\n",
        "\n",
        "test_generator.reset()\n",
        "predictions = model.predict(test_generator, steps=len(test_generator), verbose=1)\n",
        "\n",
        "# Convert predictions to binary labels\n",
        "predicted_labels = np.where(predictions > 0.5, 1, 0).flatten()\n",
        "\n",
        "# Get the true labels\n",
        "true_labels = test_generator.classes\n",
        "\n",
        "# Confusion Matrix\n",
        "conf_matrix = confusion_matrix(true_labels, predicted_labels)\n",
        "print(\"Confusion Matrix:\\n\", conf_matrix)\n",
        "\n",
        "# Classification Report\n",
        "class_report = classification_report(true_labels, predicted_labels, target_names=['Recyclable', 'Non-Recyclable'])\n",
        "print(\"\\nClassification Report:\\n\", class_report)\n",
        "\n",
        "# Accuracy Score\n",
        "accuracy = accuracy_score(true_labels, predicted_labels)\n",
        "print(\"\\nAccuracy:\", accuracy)\n",
        "\n",
        "# F1 Score\n",
        "f1 = f1_score(true_labels, predicted_labels)\n",
        "print(\"\\nF1 Score:\", f1)\n"
      ],
      "metadata": {
        "id": "5PX8Crse4UOe",
        "colab": {
          "base_uri": "https://localhost:8080/"
        },
        "outputId": "c9b5b98f-8147-4030-e7ca-cc5284138bdc"
      },
      "execution_count": 12,
      "outputs": [
        {
          "output_type": "stream",
          "name": "stderr",
          "text": [
            "WARNING:absl:Compiled the loaded model, but the compiled metrics have yet to be built. `model.compile_metrics` will be empty until you train or evaluate the model.\n",
            "/usr/local/lib/python3.10/dist-packages/keras/src/trainers/data_adapters/py_dataset_adapter.py:122: UserWarning: Your `PyDataset` class should call `super().__init__(**kwargs)` in its constructor. `**kwargs` can include `workers`, `use_multiprocessing`, `max_queue_size`. Do not pass these arguments to `fit()`, as they will be ignored.\n",
            "  self._warn_if_super_not_called()\n"
          ]
        },
        {
          "output_type": "stream",
          "name": "stdout",
          "text": [
            "\u001b[1m30/30\u001b[0m \u001b[32m━━━━━━━━━━━━━━━━━━━━\u001b[0m\u001b[37m\u001b[0m \u001b[1m693s\u001b[0m 24s/step\n",
            "Confusion Matrix:\n",
            " [[305  27]\n",
            " [ 29 589]]\n",
            "\n",
            "Classification Report:\n",
            "               precision    recall  f1-score   support\n",
            "\n",
            "     Healthy       0.91      0.92      0.92       332\n",
            "      Rotten       0.96      0.95      0.95       618\n",
            "\n",
            "    accuracy                           0.94       950\n",
            "   macro avg       0.93      0.94      0.94       950\n",
            "weighted avg       0.94      0.94      0.94       950\n",
            "\n",
            "\n",
            "Accuracy: 0.9410526315789474\n",
            "\n",
            "F1 Score: 0.9546191247974068\n"
          ]
        }
      ]
    },
    {
      "cell_type": "code",
      "source": [
        "# Define where to save everything\n",
        "results_save_path = \"/content/drive/MyDrive/DL_Project/Original_Models/Original_EfficientNetB2_results.txt\"\n",
        "conf_matrix_save_path = \"/content/drive/MyDrive/DL_Project/Original_Models/Original_EfficientNetB2_confusion_matrix.png\"\n",
        "with open(results_save_path, \"w\") as file:\n",
        "    file.write(f\"Accuracy: {accuracy:.4f}\\n\")\n",
        "    file.write(f\"F1 Score: {f1:.4f}\\n\")\n",
        "    file.write(f\"classification Report:\\n {class_report}\\n\")\n",
        "    file.write(f\"Confusion Matrix:\\n{conf_matrix}\\n\")\n",
        "\n",
        "print(f\"Results saved to {results_save_path}\")"
      ],
      "metadata": {
        "id": "Dkk6M6qE4aeW"
      },
      "execution_count": null,
      "outputs": []
    },
    {
      "cell_type": "code",
      "source": [
        "import matplotlib.pyplot as plt  # Import the plotting library and assign it to the alias 'plt'\n",
        "import seaborn as sns\n",
        "# Plot confusion matrix\n",
        "plt.figure(figsize=(6, 6))\n",
        "sns.heatmap(conf_matrix, annot=True, fmt=\"d\", cmap=\"Blues\", xticklabels=[\"Healthy\", \"Rotten\"], yticklabels=[\"Healthy\", \"Rotten\"])\n",
        "plt.xlabel(\"Predicted Labels\")\n",
        "plt.ylabel(\"True Labels\")\n",
        "plt.title(\"Confusion Matrix\")\n",
        "\n",
        "# Save confusion matrix as an image\n",
        "plt.savefig(conf_matrix_save_path)\n",
        "print(f\"Confusion matrix saved to {conf_matrix_save_path}\")\n",
        "from IPython.display import Image\n",
        "Image(filename=conf_matrix_save_path)\n",
        "plt.close()  # Close the plot to free up memory"
      ],
      "metadata": {
        "id": "3jHlLCr-4kL_",
        "colab": {
          "base_uri": "https://localhost:8080/"
        },
        "outputId": "a099f4df-62fe-469d-b98f-7b54e3de52d1"
      },
      "execution_count": 14,
      "outputs": [
        {
          "metadata": {
            "tags": null
          },
          "name": "stdout",
          "output_type": "stream",
          "text": [
            "Confusion matrix saved to /content/drive/MyDrive/DL_Project/Original_Models/Original_EfficientNetB2_confusion_matrix.png\n"
          ]
        }
      ]
    }
  ]
}