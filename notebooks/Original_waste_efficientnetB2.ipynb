{
  "nbformat": 4,
  "nbformat_minor": 0,
  "metadata": {
    "colab": {
      "provenance": [],
      "gpuType": "T4",
      "include_colab_link": true
    },
    "kernelspec": {
      "name": "python3",
      "display_name": "Python 3"
    },
    "language_info": {
      "name": "python"
    },
    "accelerator": "GPU"
  },
  "cells": [
    {
      "cell_type": "markdown",
      "metadata": {
        "id": "view-in-github",
        "colab_type": "text"
      },
      "source": [
        "<a href=\"https://colab.research.google.com/github/amr-elbana/EcoSortAI-Classifier/blob/main/notebooks/Original_waste_efficientnetB2.ipynb\" target=\"_parent\"><img src=\"https://colab.research.google.com/assets/colab-badge.svg\" alt=\"Open In Colab\"/></a>"
      ]
    },
    {
      "cell_type": "code",
      "execution_count": 12,
      "metadata": {
        "colab": {
          "base_uri": "https://localhost:8080/"
        },
        "id": "XVJj1l0N3EDz",
        "outputId": "0f1d4b1f-dca2-4d2a-c333-fba7df5c9f73"
      },
      "outputs": [
        {
          "output_type": "stream",
          "name": "stdout",
          "text": [
            "Drive already mounted at /content/drive; to attempt to forcibly remount, call drive.mount(\"/content/drive\", force_remount=True).\n"
          ]
        }
      ],
      "source": [
        "from google.colab import drive\n",
        "drive.mount('/content/drive')"
      ]
    },
    {
      "cell_type": "code",
      "source": [
        "import keras,os\n",
        "import numpy as np\n",
        "from keras.models import Sequential\n",
        "from keras.layers import Dense, Conv2D, MaxPool2D , Flatten\n",
        "from tensorflow.keras.preprocessing.image import ImageDataGenerator\n",
        "import tensorflow as tf\n",
        "from tensorflow.keras.layers import Dense, Flatten, Dropout\n",
        "from tensorflow.keras.layers import Input, BatchNormalization\n",
        "from tensorflow.keras.regularizers import l2\n",
        "from tensorflow.keras.models import Model\n",
        "from tensorflow.keras.optimizers import Adam\n",
        "from tensorflow.keras.preprocessing.image import ImageDataGenerator\n",
        "from tensorflow.keras.callbacks import ModelCheckpoint, EarlyStopping, ReduceLROnPlateau\n",
        "from tensorflow.keras.applications.efficientnet import preprocess_input, EfficientNetB2"
      ],
      "metadata": {
        "id": "2x7mYa8T3Yr5"
      },
      "execution_count": 13,
      "outputs": []
    },
    {
      "cell_type": "code",
      "source": [
        "# Define paths and constants\n",
        "data_dir = \"/content/drive/MyDrive/DL_Project/RealWaste\"\n",
        "test_dir = \"/content/drive/MyDrive/DL_Project/RealWaste-test\"\n",
        "batch_size = 32\n",
        "target_size = (224, 224)\n",
        "epochs = 100"
      ],
      "metadata": {
        "id": "F2k2Atad3Yt6"
      },
      "execution_count": 14,
      "outputs": []
    },
    {
      "cell_type": "code",
      "source": [
        "# import os\n",
        "# import shutil\n",
        "# from sklearn.model_selection import train_test_split\n",
        "\n",
        "# # Specify dataset paths\n",
        "# dataset_path = \"/path/to/dataset\"\n",
        "# output_dir = \"/path/to/output\"\n",
        "\n",
        "# # Create output folders for train, validation, and test splits\n",
        "# for split in [\"train\", \"val\", \"test\"]:\n",
        "#     for class_name in os.listdir(dataset_path):\n",
        "#         os.makedirs(os.path.join(output_dir, split, class_name), exist_ok=True)\n",
        "\n",
        "# # Function to split and move files\n",
        "# def split_dataset(dataset_path, output_dir, test_size=0.2, val_size=0.2):\n",
        "#     for class_name in os.listdir(dataset_path):\n",
        "#         class_path = os.path.join(dataset_path, class_name)\n",
        "#         if not os.path.isdir(class_path):\n",
        "#             continue\n",
        "\n",
        "#         # Get all file paths for the class\n",
        "#         files = [os.path.join(class_path, file) for file in os.listdir(class_path)]\n",
        "\n",
        "#         # Split into train, temp (validation + test)\n",
        "#         train_files, temp_files = train_test_split(files, test_size=(test_size + val_size), random_state=42)\n",
        "\n",
        "#         # Split temp into validation and test\n",
        "#         val_files, test_files = train_test_split(temp_files, test_size=(test_size / (test_size + val_size)), random_state=42)\n",
        "\n",
        "#         # Move files to respective directories\n",
        "#         for file in train_files:\n",
        "#             shutil.move(file, os.path.join(output_dir, \"train\", class_name))\n",
        "#         for file in val_files:\n",
        "#             shutil.move(file, os.path.join(output_dir, \"val\", class_name))\n",
        "#         for file in test_files:\n",
        "#             shutil.move(file, os.path.join(output_dir, \"test\", class_name))\n",
        "\n",
        "# # Call the function\n",
        "# split_dataset(dataset_path, output_dir)\n"
      ],
      "metadata": {
        "id": "T19qTInXv6ZX"
      },
      "execution_count": 15,
      "outputs": []
    },
    {
      "cell_type": "markdown",
      "source": [],
      "metadata": {
        "id": "H6K33v3vv5aZ"
      }
    },
    {
      "cell_type": "code",
      "source": [
        "# Create an ImageDataGenerator with EfficientNetB2 preprocessing and data augmentation\n",
        "train_datagen = ImageDataGenerator(\n",
        "    preprocessing_function=preprocess_input,  # EfficientNetB2-specific preprocessing\n",
        "    validation_split=0.2,  # Use 20% of data for validation\n",
        ")\n",
        "\n",
        "# Flow training data from the directory and apply preprocessing and augmentation\n",
        "train_generator = train_datagen.flow_from_directory(\n",
        "    data_dir,\n",
        "    target_size=target_size,      # Resize images to EfficientNetB2 input size\n",
        "    batch_size=batch_size,\n",
        "    class_mode='binary',          # Binary classification (healthy vs rotten)\n",
        "    subset='training',            # Use 80% of data for training\n",
        "    seed=42,                      # Set seed for reproducibility\n",
        "    shuffle=True                  # Shuffle the data to improve training\n",
        ")\n",
        "\n",
        "# Flow validation data from the directory and apply preprocessing (no augmentation for validation)\n",
        "validation_generator = train_datagen.flow_from_directory(\n",
        "    data_dir,\n",
        "    target_size=target_size,      # Resize images to EfficientNetB2 input size\n",
        "    batch_size=batch_size,\n",
        "    class_mode='binary',          # Binary classification (healthy vs rotten)\n",
        "    subset='validation',          # Use 20% of data for validation\n",
        "    shuffle=False                 # No need to shuffle validation data\n",
        ")\n",
        "\n",
        "# ... (rest of the code remains the same)\n",
        "\n",
        "# Check the number of samples in each generator\n",
        "print(f\"Training samples: {train_generator.samples}\")\n",
        "print(f\"Validation samples: {validation_generator.samples}\")\n",
        "print(f\"Training batches per epoch: {len(train_generator)}\")\n",
        "print(f\"Validation batches per epoch: {len(validation_generator)}\")"
      ],
      "metadata": {
        "id": "GL-o86dK3YxJ",
        "colab": {
          "base_uri": "https://localhost:8080/"
        },
        "outputId": "7f7518d5-6cdc-4683-fa9d-55143efa2504"
      },
      "execution_count": 16,
      "outputs": [
        {
          "output_type": "stream",
          "name": "stdout",
          "text": [
            "Found 3043 images belonging to 2 classes.\n",
            "Found 759 images belonging to 2 classes.\n",
            "Training samples: 3043\n",
            "Validation samples: 759\n",
            "Training batches per epoch: 96\n",
            "Validation batches per epoch: 24\n"
          ]
        }
      ]
    },
    {
      "cell_type": "code",
      "source": [
        "# Create an ImageDataGenerator for EfficientNetB2 preprocessing (no augmentation for the test set)\n",
        "test_datagen = ImageDataGenerator(\n",
        "    preprocessing_function=preprocess_input  # EfficientNetB2-specific preprocessing\n",
        ")\n",
        "\n",
        "# Flow data from the test directory and apply preprocessing\n",
        "test_generator = test_datagen.flow_from_directory(\n",
        "    test_dir,\n",
        "    target_size=(224, 224),  # efficientnetB2 input size\n",
        "    batch_size=batch_size,\n",
        "    class_mode='binary',     # Binary classification for the test set\n",
        "    shuffle=False            # Do not shuffle test data to keep results consistent\n",
        ")\n",
        "\n",
        "# Check the number of samples in the test set\n",
        "print(f\"Test samples: {test_generator.samples}\")\n",
        "print(f\"Test batches: {len(test_generator)}\")"
      ],
      "metadata": {
        "id": "17sLRFDF3YzQ",
        "colab": {
          "base_uri": "https://localhost:8080/"
        },
        "outputId": "45d8f021-a999-4440-fc37-201ac6440fbc"
      },
      "execution_count": 17,
      "outputs": [
        {
          "output_type": "stream",
          "name": "stdout",
          "text": [
            "Found 950 images belonging to 2 classes.\n",
            "Test samples: 950\n",
            "Test batches: 30\n"
          ]
        }
      ]
    },
    {
      "cell_type": "code",
      "source": [
        "import os\n",
        "from tensorflow.keras.layers import GlobalAveragePooling2D\n",
        "from tensorflow.keras.optimizers import SGD\n",
        "def create_model():\n",
        "    # Load EfficientNetB2 model with pretrained weights, excluding the top (fully connected) layers\n",
        "    efficientnet_base = EfficientNetB2(weights='imagenet', include_top=False, input_shape=(224, 224, 3))\n",
        "\n",
        "    # Freeze the layers of EfficientNetB2 to retain the pre-trained weights\n",
        "    efficientnet_base.trainable = False\n",
        "    # Build the model\n",
        "    model = Sequential([\n",
        "        efficientnet_base,  # Add the entire base model\n",
        "        GlobalAveragePooling2D(),  # Use global pooling instead of Flatten, This is more efficient and typically used for pre-trained convolutional models.\n",
        "        Dense(256, activation='relu', kernel_regularizer=l2(0.001)),\n",
        "        Dropout(0.5),\n",
        "        Dense(256, activation='relu', kernel_regularizer=l2(0.001)),\n",
        "        Dropout(0.5),\n",
        "        Dense(1, activation='sigmoid')  # For binary classification\n",
        "    ])\n",
        "\n",
        "    # Compile the model\n",
        "    optimizer = SGD(learning_rate=0.0001, momentum=0.9)  # Lower learning rate\n",
        "    model.compile(optimizer=optimizer, loss=\"binary_crossentropy\", metrics=[\"accuracy\"])\n",
        "\n",
        "    return model\n",
        "\n",
        "# Define the model\n",
        "model = create_model()\n",
        "model.summary()\n"
      ],
      "metadata": {
        "id": "ULa1TqKF3Y-2",
        "colab": {
          "base_uri": "https://localhost:8080/",
          "height": 369
        },
        "outputId": "1c632ec0-ee98-4a66-d719-bcf0972ae843"
      },
      "execution_count": 18,
      "outputs": [
        {
          "output_type": "display_data",
          "data": {
            "text/plain": [
              "\u001b[1mModel: \"sequential_1\"\u001b[0m\n"
            ],
            "text/html": [
              "<pre style=\"white-space:pre;overflow-x:auto;line-height:normal;font-family:Menlo,'DejaVu Sans Mono',consolas,'Courier New',monospace\"><span style=\"font-weight: bold\">Model: \"sequential_1\"</span>\n",
              "</pre>\n"
            ]
          },
          "metadata": {}
        },
        {
          "output_type": "display_data",
          "data": {
            "text/plain": [
              "┏━━━━━━━━━━━━━━━━━━━━━━━━━━━━━━━━━━━━━━┳━━━━━━━━━━━━━━━━━━━━━━━━━━━━━┳━━━━━━━━━━━━━━━━━┓\n",
              "┃\u001b[1m \u001b[0m\u001b[1mLayer (type)                        \u001b[0m\u001b[1m \u001b[0m┃\u001b[1m \u001b[0m\u001b[1mOutput Shape               \u001b[0m\u001b[1m \u001b[0m┃\u001b[1m \u001b[0m\u001b[1m        Param #\u001b[0m\u001b[1m \u001b[0m┃\n",
              "┡━━━━━━━━━━━━━━━━━━━━━━━━━━━━━━━━━━━━━━╇━━━━━━━━━━━━━━━━━━━━━━━━━━━━━╇━━━━━━━━━━━━━━━━━┩\n",
              "│ efficientnetb2 (\u001b[38;5;33mFunctional\u001b[0m)          │ (\u001b[38;5;45mNone\u001b[0m, \u001b[38;5;34m7\u001b[0m, \u001b[38;5;34m7\u001b[0m, \u001b[38;5;34m1408\u001b[0m)          │       \u001b[38;5;34m7,768,569\u001b[0m │\n",
              "├──────────────────────────────────────┼─────────────────────────────┼─────────────────┤\n",
              "│ global_average_pooling2d_1           │ (\u001b[38;5;45mNone\u001b[0m, \u001b[38;5;34m1408\u001b[0m)                │               \u001b[38;5;34m0\u001b[0m │\n",
              "│ (\u001b[38;5;33mGlobalAveragePooling2D\u001b[0m)             │                             │                 │\n",
              "├──────────────────────────────────────┼─────────────────────────────┼─────────────────┤\n",
              "│ dense_3 (\u001b[38;5;33mDense\u001b[0m)                      │ (\u001b[38;5;45mNone\u001b[0m, \u001b[38;5;34m256\u001b[0m)                 │         \u001b[38;5;34m360,704\u001b[0m │\n",
              "├──────────────────────────────────────┼─────────────────────────────┼─────────────────┤\n",
              "│ dropout_2 (\u001b[38;5;33mDropout\u001b[0m)                  │ (\u001b[38;5;45mNone\u001b[0m, \u001b[38;5;34m256\u001b[0m)                 │               \u001b[38;5;34m0\u001b[0m │\n",
              "├──────────────────────────────────────┼─────────────────────────────┼─────────────────┤\n",
              "│ dense_4 (\u001b[38;5;33mDense\u001b[0m)                      │ (\u001b[38;5;45mNone\u001b[0m, \u001b[38;5;34m256\u001b[0m)                 │          \u001b[38;5;34m65,792\u001b[0m │\n",
              "├──────────────────────────────────────┼─────────────────────────────┼─────────────────┤\n",
              "│ dropout_3 (\u001b[38;5;33mDropout\u001b[0m)                  │ (\u001b[38;5;45mNone\u001b[0m, \u001b[38;5;34m256\u001b[0m)                 │               \u001b[38;5;34m0\u001b[0m │\n",
              "├──────────────────────────────────────┼─────────────────────────────┼─────────────────┤\n",
              "│ dense_5 (\u001b[38;5;33mDense\u001b[0m)                      │ (\u001b[38;5;45mNone\u001b[0m, \u001b[38;5;34m1\u001b[0m)                   │             \u001b[38;5;34m257\u001b[0m │\n",
              "└──────────────────────────────────────┴─────────────────────────────┴─────────────────┘\n"
            ],
            "text/html": [
              "<pre style=\"white-space:pre;overflow-x:auto;line-height:normal;font-family:Menlo,'DejaVu Sans Mono',consolas,'Courier New',monospace\">┏━━━━━━━━━━━━━━━━━━━━━━━━━━━━━━━━━━━━━━┳━━━━━━━━━━━━━━━━━━━━━━━━━━━━━┳━━━━━━━━━━━━━━━━━┓\n",
              "┃<span style=\"font-weight: bold\"> Layer (type)                         </span>┃<span style=\"font-weight: bold\"> Output Shape                </span>┃<span style=\"font-weight: bold\">         Param # </span>┃\n",
              "┡━━━━━━━━━━━━━━━━━━━━━━━━━━━━━━━━━━━━━━╇━━━━━━━━━━━━━━━━━━━━━━━━━━━━━╇━━━━━━━━━━━━━━━━━┩\n",
              "│ efficientnetb2 (<span style=\"color: #0087ff; text-decoration-color: #0087ff\">Functional</span>)          │ (<span style=\"color: #00d7ff; text-decoration-color: #00d7ff\">None</span>, <span style=\"color: #00af00; text-decoration-color: #00af00\">7</span>, <span style=\"color: #00af00; text-decoration-color: #00af00\">7</span>, <span style=\"color: #00af00; text-decoration-color: #00af00\">1408</span>)          │       <span style=\"color: #00af00; text-decoration-color: #00af00\">7,768,569</span> │\n",
              "├──────────────────────────────────────┼─────────────────────────────┼─────────────────┤\n",
              "│ global_average_pooling2d_1           │ (<span style=\"color: #00d7ff; text-decoration-color: #00d7ff\">None</span>, <span style=\"color: #00af00; text-decoration-color: #00af00\">1408</span>)                │               <span style=\"color: #00af00; text-decoration-color: #00af00\">0</span> │\n",
              "│ (<span style=\"color: #0087ff; text-decoration-color: #0087ff\">GlobalAveragePooling2D</span>)             │                             │                 │\n",
              "├──────────────────────────────────────┼─────────────────────────────┼─────────────────┤\n",
              "│ dense_3 (<span style=\"color: #0087ff; text-decoration-color: #0087ff\">Dense</span>)                      │ (<span style=\"color: #00d7ff; text-decoration-color: #00d7ff\">None</span>, <span style=\"color: #00af00; text-decoration-color: #00af00\">256</span>)                 │         <span style=\"color: #00af00; text-decoration-color: #00af00\">360,704</span> │\n",
              "├──────────────────────────────────────┼─────────────────────────────┼─────────────────┤\n",
              "│ dropout_2 (<span style=\"color: #0087ff; text-decoration-color: #0087ff\">Dropout</span>)                  │ (<span style=\"color: #00d7ff; text-decoration-color: #00d7ff\">None</span>, <span style=\"color: #00af00; text-decoration-color: #00af00\">256</span>)                 │               <span style=\"color: #00af00; text-decoration-color: #00af00\">0</span> │\n",
              "├──────────────────────────────────────┼─────────────────────────────┼─────────────────┤\n",
              "│ dense_4 (<span style=\"color: #0087ff; text-decoration-color: #0087ff\">Dense</span>)                      │ (<span style=\"color: #00d7ff; text-decoration-color: #00d7ff\">None</span>, <span style=\"color: #00af00; text-decoration-color: #00af00\">256</span>)                 │          <span style=\"color: #00af00; text-decoration-color: #00af00\">65,792</span> │\n",
              "├──────────────────────────────────────┼─────────────────────────────┼─────────────────┤\n",
              "│ dropout_3 (<span style=\"color: #0087ff; text-decoration-color: #0087ff\">Dropout</span>)                  │ (<span style=\"color: #00d7ff; text-decoration-color: #00d7ff\">None</span>, <span style=\"color: #00af00; text-decoration-color: #00af00\">256</span>)                 │               <span style=\"color: #00af00; text-decoration-color: #00af00\">0</span> │\n",
              "├──────────────────────────────────────┼─────────────────────────────┼─────────────────┤\n",
              "│ dense_5 (<span style=\"color: #0087ff; text-decoration-color: #0087ff\">Dense</span>)                      │ (<span style=\"color: #00d7ff; text-decoration-color: #00d7ff\">None</span>, <span style=\"color: #00af00; text-decoration-color: #00af00\">1</span>)                   │             <span style=\"color: #00af00; text-decoration-color: #00af00\">257</span> │\n",
              "└──────────────────────────────────────┴─────────────────────────────┴─────────────────┘\n",
              "</pre>\n"
            ]
          },
          "metadata": {}
        },
        {
          "output_type": "display_data",
          "data": {
            "text/plain": [
              "\u001b[1m Total params: \u001b[0m\u001b[38;5;34m8,195,322\u001b[0m (31.26 MB)\n"
            ],
            "text/html": [
              "<pre style=\"white-space:pre;overflow-x:auto;line-height:normal;font-family:Menlo,'DejaVu Sans Mono',consolas,'Courier New',monospace\"><span style=\"font-weight: bold\"> Total params: </span><span style=\"color: #00af00; text-decoration-color: #00af00\">8,195,322</span> (31.26 MB)\n",
              "</pre>\n"
            ]
          },
          "metadata": {}
        },
        {
          "output_type": "display_data",
          "data": {
            "text/plain": [
              "\u001b[1m Trainable params: \u001b[0m\u001b[38;5;34m426,753\u001b[0m (1.63 MB)\n"
            ],
            "text/html": [
              "<pre style=\"white-space:pre;overflow-x:auto;line-height:normal;font-family:Menlo,'DejaVu Sans Mono',consolas,'Courier New',monospace\"><span style=\"font-weight: bold\"> Trainable params: </span><span style=\"color: #00af00; text-decoration-color: #00af00\">426,753</span> (1.63 MB)\n",
              "</pre>\n"
            ]
          },
          "metadata": {}
        },
        {
          "output_type": "display_data",
          "data": {
            "text/plain": [
              "\u001b[1m Non-trainable params: \u001b[0m\u001b[38;5;34m7,768,569\u001b[0m (29.63 MB)\n"
            ],
            "text/html": [
              "<pre style=\"white-space:pre;overflow-x:auto;line-height:normal;font-family:Menlo,'DejaVu Sans Mono',consolas,'Courier New',monospace\"><span style=\"font-weight: bold\"> Non-trainable params: </span><span style=\"color: #00af00; text-decoration-color: #00af00\">7,768,569</span> (29.63 MB)\n",
              "</pre>\n"
            ]
          },
          "metadata": {}
        }
      ]
    },
    {
      "cell_type": "code",
      "source": [
        "from tensorflow.keras.callbacks import EarlyStopping, ModelCheckpoint, ReduceLROnPlateau\n",
        "# Define callbacks\n",
        "checkpoint_path = \"/content/drive/MyDrive/DL_Project/Original_Models2/Waste_Original_EfficientNetB2_{epoch:02d}-{val_accuracy:0.2f}.keras\"\n",
        "\n",
        "# ModelCheckpoint: Save best model based on val_accuracy\n",
        "checkpoint = ModelCheckpoint(\n",
        "    checkpoint_path,\n",
        "    monitor='val_accuracy',  # Save the best model based on validation accuracy\n",
        "    verbose=1,\n",
        "    save_best_only=True,\n",
        "    mode='max'\n",
        ")\n",
        "\n",
        "early_stopping_monitor = EarlyStopping(\n",
        "    monitor='val_loss',         # Focus on reducing overfitting\n",
        "    patience=5,                # Allow enough time for gradual improvements\n",
        "    restore_best_weights=True,  # Load the best weights after stopping\n",
        "    verbose=1\n",
        ")\n",
        "\n",
        "reduce_lr = ReduceLROnPlateau(\n",
        "    monitor='val_loss',  # Adjust learning rate if validation loss doesn't improve\n",
        "    factor=0.2,          # Reduce learning rate by a factor of 5\n",
        "    patience=2,          # Wait 5 epochs before reducing\n",
        "    min_lr=1e-6,         # Set a minimum learning rate\n",
        "    verbose=1\n",
        ")\n",
        "# Train the model\n",
        "History = model.fit(\n",
        "    train_generator,\n",
        "    validation_data=validation_generator,\n",
        "    epochs=epochs,\n",
        "    callbacks=[checkpoint, early_stopping_monitor, reduce_lr]\n",
        ")\n",
        "model.save('/content/drive/MyDrive/DL_Project/Original_Models2/Original_EfficientNetB2_best_model.h5')"
      ],
      "metadata": {
        "id": "fD9xlqdg3ZAl",
        "colab": {
          "base_uri": "https://localhost:8080/"
        },
        "outputId": "fe6b8a6e-58d7-491c-89ab-65533a0eee20"
      },
      "execution_count": 19,
      "outputs": [
        {
          "output_type": "stream",
          "name": "stdout",
          "text": [
            "Epoch 1/30\n"
          ]
        },
        {
          "output_type": "stream",
          "name": "stderr",
          "text": [
            "/usr/local/lib/python3.10/dist-packages/keras/src/trainers/data_adapters/py_dataset_adapter.py:122: UserWarning: Your `PyDataset` class should call `super().__init__(**kwargs)` in its constructor. `**kwargs` can include `workers`, `use_multiprocessing`, `max_queue_size`. Do not pass these arguments to `fit()`, as they will be ignored.\n",
            "  self._warn_if_super_not_called()\n"
          ]
        },
        {
          "output_type": "stream",
          "name": "stdout",
          "text": [
            "\u001b[1m96/96\u001b[0m \u001b[32m━━━━━━━━━━━━━━━━━━━━\u001b[0m\u001b[37m\u001b[0m \u001b[1m0s\u001b[0m 8s/step - accuracy: 0.5168 - loss: 1.4128\n",
            "Epoch 1: val_accuracy improved from -inf to 0.69038, saving model to /content/drive/MyDrive/DL_Project/Original_Models2/Waste_Original_EfficientNetB2_01-0.69.keras\n",
            "\u001b[1m96/96\u001b[0m \u001b[32m━━━━━━━━━━━━━━━━━━━━\u001b[0m\u001b[37m\u001b[0m \u001b[1m1075s\u001b[0m 10s/step - accuracy: 0.5171 - loss: 1.4127 - val_accuracy: 0.6904 - val_loss: 1.3181 - learning_rate: 1.0000e-04\n",
            "Epoch 2/30\n",
            "\u001b[1m95/96\u001b[0m \u001b[32m━━━━━━━━━━━━━━━━━━━\u001b[0m\u001b[37m━\u001b[0m \u001b[1m0s\u001b[0m 262ms/step - accuracy: 0.6074 - loss: 1.3494\n",
            "Epoch 2: val_accuracy improved from 0.69038 to 0.69829, saving model to /content/drive/MyDrive/DL_Project/Original_Models2/Waste_Original_EfficientNetB2_02-0.70.keras\n",
            "\u001b[1m96/96\u001b[0m \u001b[32m━━━━━━━━━━━━━━━━━━━━\u001b[0m\u001b[37m\u001b[0m \u001b[1m34s\u001b[0m 333ms/step - accuracy: 0.6078 - loss: 1.3492 - val_accuracy: 0.6983 - val_loss: 1.2910 - learning_rate: 1.0000e-04\n",
            "Epoch 3/30\n",
            "\u001b[1m96/96\u001b[0m \u001b[32m━━━━━━━━━━━━━━━━━━━━\u001b[0m\u001b[37m\u001b[0m \u001b[1m0s\u001b[0m 251ms/step - accuracy: 0.6580 - loss: 1.3157\n",
            "Epoch 3: val_accuracy did not improve from 0.69829\n",
            "\u001b[1m96/96\u001b[0m \u001b[32m━━━━━━━━━━━━━━━━━━━━\u001b[0m\u001b[37m\u001b[0m \u001b[1m38s\u001b[0m 306ms/step - accuracy: 0.6580 - loss: 1.3157 - val_accuracy: 0.6864 - val_loss: 1.2713 - learning_rate: 1.0000e-04\n",
            "Epoch 4/30\n",
            "\u001b[1m96/96\u001b[0m \u001b[32m━━━━━━━━━━━━━━━━━━━━\u001b[0m\u001b[37m\u001b[0m \u001b[1m0s\u001b[0m 237ms/step - accuracy: 0.6755 - loss: 1.3051\n",
            "Epoch 4: val_accuracy did not improve from 0.69829\n",
            "\u001b[1m96/96\u001b[0m \u001b[32m━━━━━━━━━━━━━━━━━━━━\u001b[0m\u001b[37m\u001b[0m \u001b[1m40s\u001b[0m 296ms/step - accuracy: 0.6755 - loss: 1.3051 - val_accuracy: 0.6970 - val_loss: 1.2534 - learning_rate: 1.0000e-04\n",
            "Epoch 5/30\n",
            "\u001b[1m96/96\u001b[0m \u001b[32m━━━━━━━━━━━━━━━━━━━━\u001b[0m\u001b[37m\u001b[0m \u001b[1m0s\u001b[0m 223ms/step - accuracy: 0.6926 - loss: 1.2842\n",
            "Epoch 5: val_accuracy improved from 0.69829 to 0.70883, saving model to /content/drive/MyDrive/DL_Project/Original_Models2/Waste_Original_EfficientNetB2_05-0.71.keras\n",
            "\u001b[1m96/96\u001b[0m \u001b[32m━━━━━━━━━━━━━━━━━━━━\u001b[0m\u001b[37m\u001b[0m \u001b[1m41s\u001b[0m 295ms/step - accuracy: 0.6927 - loss: 1.2841 - val_accuracy: 0.7088 - val_loss: 1.2365 - learning_rate: 1.0000e-04\n",
            "Epoch 6/30\n",
            "\u001b[1m96/96\u001b[0m \u001b[32m━━━━━━━━━━━━━━━━━━━━\u001b[0m\u001b[37m\u001b[0m \u001b[1m0s\u001b[0m 222ms/step - accuracy: 0.7191 - loss: 1.2610\n",
            "Epoch 6: val_accuracy improved from 0.70883 to 0.72332, saving model to /content/drive/MyDrive/DL_Project/Original_Models2/Waste_Original_EfficientNetB2_06-0.72.keras\n",
            "\u001b[1m96/96\u001b[0m \u001b[32m━━━━━━━━━━━━━━━━━━━━\u001b[0m\u001b[37m\u001b[0m \u001b[1m29s\u001b[0m 289ms/step - accuracy: 0.7190 - loss: 1.2610 - val_accuracy: 0.7233 - val_loss: 1.2211 - learning_rate: 1.0000e-04\n",
            "Epoch 7/30\n",
            "\u001b[1m96/96\u001b[0m \u001b[32m━━━━━━━━━━━━━━━━━━━━\u001b[0m\u001b[37m\u001b[0m \u001b[1m0s\u001b[0m 225ms/step - accuracy: 0.7372 - loss: 1.2432\n",
            "Epoch 7: val_accuracy improved from 0.72332 to 0.73386, saving model to /content/drive/MyDrive/DL_Project/Original_Models2/Waste_Original_EfficientNetB2_07-0.73.keras\n",
            "\u001b[1m96/96\u001b[0m \u001b[32m━━━━━━━━━━━━━━━━━━━━\u001b[0m\u001b[37m\u001b[0m \u001b[1m42s\u001b[0m 296ms/step - accuracy: 0.7371 - loss: 1.2432 - val_accuracy: 0.7339 - val_loss: 1.2063 - learning_rate: 1.0000e-04\n",
            "Epoch 8/30\n",
            "\u001b[1m96/96\u001b[0m \u001b[32m━━━━━━━━━━━━━━━━━━━━\u001b[0m\u001b[37m\u001b[0m \u001b[1m0s\u001b[0m 223ms/step - accuracy: 0.7266 - loss: 1.2432\n",
            "Epoch 8: val_accuracy improved from 0.73386 to 0.75494, saving model to /content/drive/MyDrive/DL_Project/Original_Models2/Waste_Original_EfficientNetB2_08-0.75.keras\n",
            "\u001b[1m96/96\u001b[0m \u001b[32m━━━━━━━━━━━━━━━━━━━━\u001b[0m\u001b[37m\u001b[0m \u001b[1m40s\u001b[0m 290ms/step - accuracy: 0.7267 - loss: 1.2431 - val_accuracy: 0.7549 - val_loss: 1.1909 - learning_rate: 1.0000e-04\n",
            "Epoch 9/30\n",
            "\u001b[1m96/96\u001b[0m \u001b[32m━━━━━━━━━━━━━━━━━━━━\u001b[0m\u001b[37m\u001b[0m \u001b[1m0s\u001b[0m 224ms/step - accuracy: 0.7389 - loss: 1.2306\n",
            "Epoch 9: val_accuracy improved from 0.75494 to 0.77075, saving model to /content/drive/MyDrive/DL_Project/Original_Models2/Waste_Original_EfficientNetB2_09-0.77.keras\n",
            "\u001b[1m96/96\u001b[0m \u001b[32m━━━━━━━━━━━━━━━━━━━━\u001b[0m\u001b[37m\u001b[0m \u001b[1m29s\u001b[0m 286ms/step - accuracy: 0.7391 - loss: 1.2305 - val_accuracy: 0.7708 - val_loss: 1.1765 - learning_rate: 1.0000e-04\n",
            "Epoch 10/30\n",
            "\u001b[1m96/96\u001b[0m \u001b[32m━━━━━━━━━━━━━━━━━━━━\u001b[0m\u001b[37m\u001b[0m \u001b[1m0s\u001b[0m 232ms/step - accuracy: 0.7493 - loss: 1.2165\n",
            "Epoch 10: val_accuracy improved from 0.77075 to 0.78129, saving model to /content/drive/MyDrive/DL_Project/Original_Models2/Waste_Original_EfficientNetB2_10-0.78.keras\n",
            "\u001b[1m96/96\u001b[0m \u001b[32m━━━━━━━━━━━━━━━━━━━━\u001b[0m\u001b[37m\u001b[0m \u001b[1m29s\u001b[0m 293ms/step - accuracy: 0.7492 - loss: 1.2165 - val_accuracy: 0.7813 - val_loss: 1.1633 - learning_rate: 1.0000e-04\n",
            "Epoch 11/30\n",
            "\u001b[1m96/96\u001b[0m \u001b[32m━━━━━━━━━━━━━━━━━━━━\u001b[0m\u001b[37m\u001b[0m \u001b[1m0s\u001b[0m 248ms/step - accuracy: 0.7768 - loss: 1.1910\n",
            "Epoch 11: val_accuracy improved from 0.78129 to 0.79183, saving model to /content/drive/MyDrive/DL_Project/Original_Models2/Waste_Original_EfficientNetB2_11-0.79.keras\n",
            "\u001b[1m96/96\u001b[0m \u001b[32m━━━━━━━━━━━━━━━━━━━━\u001b[0m\u001b[37m\u001b[0m \u001b[1m31s\u001b[0m 309ms/step - accuracy: 0.7768 - loss: 1.1910 - val_accuracy: 0.7918 - val_loss: 1.1492 - learning_rate: 1.0000e-04\n",
            "Epoch 12/30\n",
            "\u001b[1m96/96\u001b[0m \u001b[32m━━━━━━━━━━━━━━━━━━━━\u001b[0m\u001b[37m\u001b[0m \u001b[1m0s\u001b[0m 232ms/step - accuracy: 0.7761 - loss: 1.1674\n",
            "Epoch 12: val_accuracy improved from 0.79183 to 0.80501, saving model to /content/drive/MyDrive/DL_Project/Original_Models2/Waste_Original_EfficientNetB2_12-0.81.keras\n",
            "\u001b[1m96/96\u001b[0m \u001b[32m━━━━━━━━━━━━━━━━━━━━\u001b[0m\u001b[37m\u001b[0m \u001b[1m30s\u001b[0m 294ms/step - accuracy: 0.7760 - loss: 1.1675 - val_accuracy: 0.8050 - val_loss: 1.1363 - learning_rate: 1.0000e-04\n",
            "Epoch 13/30\n",
            "\u001b[1m96/96\u001b[0m \u001b[32m━━━━━━━━━━━━━━━━━━━━\u001b[0m\u001b[37m\u001b[0m \u001b[1m0s\u001b[0m 230ms/step - accuracy: 0.7985 - loss: 1.1698\n",
            "Epoch 13: val_accuracy improved from 0.80501 to 0.83136, saving model to /content/drive/MyDrive/DL_Project/Original_Models2/Waste_Original_EfficientNetB2_13-0.83.keras\n",
            "\u001b[1m96/96\u001b[0m \u001b[32m━━━━━━━━━━━━━━━━━━━━\u001b[0m\u001b[37m\u001b[0m \u001b[1m41s\u001b[0m 292ms/step - accuracy: 0.7985 - loss: 1.1697 - val_accuracy: 0.8314 - val_loss: 1.1234 - learning_rate: 1.0000e-04\n",
            "Epoch 14/30\n",
            "\u001b[1m96/96\u001b[0m \u001b[32m━━━━━━━━━━━━━━━━━━━━\u001b[0m\u001b[37m\u001b[0m \u001b[1m0s\u001b[0m 233ms/step - accuracy: 0.7849 - loss: 1.1604\n",
            "Epoch 14: val_accuracy improved from 0.83136 to 0.84190, saving model to /content/drive/MyDrive/DL_Project/Original_Models2/Waste_Original_EfficientNetB2_14-0.84.keras\n",
            "\u001b[1m96/96\u001b[0m \u001b[32m━━━━━━━━━━━━━━━━━━━━\u001b[0m\u001b[37m\u001b[0m \u001b[1m30s\u001b[0m 295ms/step - accuracy: 0.7850 - loss: 1.1603 - val_accuracy: 0.8419 - val_loss: 1.1120 - learning_rate: 1.0000e-04\n",
            "Epoch 15/30\n",
            "\u001b[1m96/96\u001b[0m \u001b[32m━━━━━━━━━━━━━━━━━━━━\u001b[0m\u001b[37m\u001b[0m \u001b[1m0s\u001b[0m 230ms/step - accuracy: 0.8135 - loss: 1.1317\n",
            "Epoch 15: val_accuracy improved from 0.84190 to 0.85244, saving model to /content/drive/MyDrive/DL_Project/Original_Models2/Waste_Original_EfficientNetB2_15-0.85.keras\n",
            "\u001b[1m96/96\u001b[0m \u001b[32m━━━━━━━━━━━━━━━━━━━━\u001b[0m\u001b[37m\u001b[0m \u001b[1m41s\u001b[0m 293ms/step - accuracy: 0.8134 - loss: 1.1318 - val_accuracy: 0.8524 - val_loss: 1.1008 - learning_rate: 1.0000e-04\n",
            "Epoch 16/30\n",
            "\u001b[1m96/96\u001b[0m \u001b[32m━━━━━━━━━━━━━━━━━━━━\u001b[0m\u001b[37m\u001b[0m \u001b[1m0s\u001b[0m 230ms/step - accuracy: 0.7988 - loss: 1.1509\n",
            "Epoch 16: val_accuracy improved from 0.85244 to 0.85903, saving model to /content/drive/MyDrive/DL_Project/Original_Models2/Waste_Original_EfficientNetB2_16-0.86.keras\n",
            "\u001b[1m96/96\u001b[0m \u001b[32m━━━━━━━━━━━━━━━━━━━━\u001b[0m\u001b[37m\u001b[0m \u001b[1m30s\u001b[0m 293ms/step - accuracy: 0.7990 - loss: 1.1507 - val_accuracy: 0.8590 - val_loss: 1.0902 - learning_rate: 1.0000e-04\n",
            "Epoch 17/30\n",
            "\u001b[1m96/96\u001b[0m \u001b[32m━━━━━━━━━━━━━━━━━━━━\u001b[0m\u001b[37m\u001b[0m \u001b[1m0s\u001b[0m 224ms/step - accuracy: 0.8360 - loss: 1.1068\n",
            "Epoch 17: val_accuracy improved from 0.85903 to 0.86298, saving model to /content/drive/MyDrive/DL_Project/Original_Models2/Waste_Original_EfficientNetB2_17-0.86.keras\n",
            "\u001b[1m96/96\u001b[0m \u001b[32m━━━━━━━━━━━━━━━━━━━━\u001b[0m\u001b[37m\u001b[0m \u001b[1m45s\u001b[0m 341ms/step - accuracy: 0.8358 - loss: 1.1070 - val_accuracy: 0.8630 - val_loss: 1.0798 - learning_rate: 1.0000e-04\n",
            "Epoch 18/30\n",
            "\u001b[1m96/96\u001b[0m \u001b[32m━━━━━━━━━━━━━━━━━━━━\u001b[0m\u001b[37m\u001b[0m \u001b[1m0s\u001b[0m 224ms/step - accuracy: 0.8126 - loss: 1.1176\n",
            "Epoch 18: val_accuracy improved from 0.86298 to 0.86825, saving model to /content/drive/MyDrive/DL_Project/Original_Models2/Waste_Original_EfficientNetB2_18-0.87.keras\n",
            "\u001b[1m96/96\u001b[0m \u001b[32m━━━━━━━━━━━━━━━━━━━━\u001b[0m\u001b[37m\u001b[0m \u001b[1m36s\u001b[0m 289ms/step - accuracy: 0.8127 - loss: 1.1176 - val_accuracy: 0.8682 - val_loss: 1.0703 - learning_rate: 1.0000e-04\n",
            "Epoch 19/30\n",
            "\u001b[1m96/96\u001b[0m \u001b[32m━━━━━━━━━━━━━━━━━━━━\u001b[0m\u001b[37m\u001b[0m \u001b[1m0s\u001b[0m 220ms/step - accuracy: 0.8393 - loss: 1.0913\n",
            "Epoch 19: val_accuracy improved from 0.86825 to 0.87484, saving model to /content/drive/MyDrive/DL_Project/Original_Models2/Waste_Original_EfficientNetB2_19-0.87.keras\n",
            "\u001b[1m96/96\u001b[0m \u001b[32m━━━━━━━━━━━━━━━━━━━━\u001b[0m\u001b[37m\u001b[0m \u001b[1m29s\u001b[0m 284ms/step - accuracy: 0.8392 - loss: 1.0913 - val_accuracy: 0.8748 - val_loss: 1.0615 - learning_rate: 1.0000e-04\n",
            "Epoch 20/30\n",
            "\u001b[1m96/96\u001b[0m \u001b[32m━━━━━━━━━━━━━━━━━━━━\u001b[0m\u001b[37m\u001b[0m \u001b[1m0s\u001b[0m 220ms/step - accuracy: 0.8394 - loss: 1.0922\n",
            "Epoch 20: val_accuracy improved from 0.87484 to 0.88011, saving model to /content/drive/MyDrive/DL_Project/Original_Models2/Waste_Original_EfficientNetB2_20-0.88.keras\n",
            "\u001b[1m96/96\u001b[0m \u001b[32m━━━━━━━━━━━━━━━━━━━━\u001b[0m\u001b[37m\u001b[0m \u001b[1m30s\u001b[0m 288ms/step - accuracy: 0.8394 - loss: 1.0922 - val_accuracy: 0.8801 - val_loss: 1.0535 - learning_rate: 1.0000e-04\n",
            "Epoch 21/30\n",
            "\u001b[1m96/96\u001b[0m \u001b[32m━━━━━━━━━━━━━━━━━━━━\u001b[0m\u001b[37m\u001b[0m \u001b[1m0s\u001b[0m 218ms/step - accuracy: 0.8272 - loss: 1.0948\n",
            "Epoch 21: val_accuracy did not improve from 0.88011\n",
            "\u001b[1m96/96\u001b[0m \u001b[32m━━━━━━━━━━━━━━━━━━━━\u001b[0m\u001b[37m\u001b[0m \u001b[1m28s\u001b[0m 279ms/step - accuracy: 0.8274 - loss: 1.0946 - val_accuracy: 0.8801 - val_loss: 1.0457 - learning_rate: 1.0000e-04\n",
            "Epoch 22/30\n",
            "\u001b[1m96/96\u001b[0m \u001b[32m━━━━━━━━━━━━━━━━━━━━\u001b[0m\u001b[37m\u001b[0m \u001b[1m0s\u001b[0m 222ms/step - accuracy: 0.8347 - loss: 1.0867\n",
            "Epoch 22: val_accuracy improved from 0.88011 to 0.88406, saving model to /content/drive/MyDrive/DL_Project/Original_Models2/Waste_Original_EfficientNetB2_22-0.88.keras\n",
            "\u001b[1m96/96\u001b[0m \u001b[32m━━━━━━━━━━━━━━━━━━━━\u001b[0m\u001b[37m\u001b[0m \u001b[1m30s\u001b[0m 295ms/step - accuracy: 0.8347 - loss: 1.0867 - val_accuracy: 0.8841 - val_loss: 1.0383 - learning_rate: 1.0000e-04\n",
            "Epoch 23/30\n",
            "\u001b[1m96/96\u001b[0m \u001b[32m━━━━━━━━━━━━━━━━━━━━\u001b[0m\u001b[37m\u001b[0m \u001b[1m0s\u001b[0m 217ms/step - accuracy: 0.8419 - loss: 1.0818\n",
            "Epoch 23: val_accuracy improved from 0.88406 to 0.88538, saving model to /content/drive/MyDrive/DL_Project/Original_Models2/Waste_Original_EfficientNetB2_23-0.89.keras\n",
            "\u001b[1m96/96\u001b[0m \u001b[32m━━━━━━━━━━━━━━━━━━━━\u001b[0m\u001b[37m\u001b[0m \u001b[1m29s\u001b[0m 291ms/step - accuracy: 0.8420 - loss: 1.0817 - val_accuracy: 0.8854 - val_loss: 1.0319 - learning_rate: 1.0000e-04\n",
            "Epoch 24/30\n",
            "\u001b[1m96/96\u001b[0m \u001b[32m━━━━━━━━━━━━━━━━━━━━\u001b[0m\u001b[37m\u001b[0m \u001b[1m0s\u001b[0m 224ms/step - accuracy: 0.8436 - loss: 1.0670\n",
            "Epoch 24: val_accuracy did not improve from 0.88538\n",
            "\u001b[1m96/96\u001b[0m \u001b[32m━━━━━━━━━━━━━━━━━━━━\u001b[0m\u001b[37m\u001b[0m \u001b[1m42s\u001b[0m 299ms/step - accuracy: 0.8436 - loss: 1.0670 - val_accuracy: 0.8827 - val_loss: 1.0263 - learning_rate: 1.0000e-04\n",
            "Epoch 25/30\n",
            "\u001b[1m96/96\u001b[0m \u001b[32m━━━━━━━━━━━━━━━━━━━━\u001b[0m\u001b[37m\u001b[0m \u001b[1m0s\u001b[0m 218ms/step - accuracy: 0.8490 - loss: 1.0502\n",
            "Epoch 25: val_accuracy did not improve from 0.88538\n",
            "\u001b[1m96/96\u001b[0m \u001b[32m━━━━━━━━━━━━━━━━━━━━\u001b[0m\u001b[37m\u001b[0m \u001b[1m29s\u001b[0m 286ms/step - accuracy: 0.8491 - loss: 1.0503 - val_accuracy: 0.8814 - val_loss: 1.0208 - learning_rate: 1.0000e-04\n",
            "Epoch 26/30\n",
            "\u001b[1m96/96\u001b[0m \u001b[32m━━━━━━━━━━━━━━━━━━━━\u001b[0m\u001b[37m\u001b[0m \u001b[1m0s\u001b[0m 218ms/step - accuracy: 0.8437 - loss: 1.0573\n",
            "Epoch 26: val_accuracy did not improve from 0.88538\n",
            "\u001b[1m96/96\u001b[0m \u001b[32m━━━━━━━━━━━━━━━━━━━━\u001b[0m\u001b[37m\u001b[0m \u001b[1m40s\u001b[0m 282ms/step - accuracy: 0.8437 - loss: 1.0573 - val_accuracy: 0.8775 - val_loss: 1.0154 - learning_rate: 1.0000e-04\n",
            "Epoch 27/30\n",
            "\u001b[1m96/96\u001b[0m \u001b[32m━━━━━━━━━━━━━━━━━━━━\u001b[0m\u001b[37m\u001b[0m \u001b[1m0s\u001b[0m 231ms/step - accuracy: 0.8572 - loss: 1.0434\n",
            "Epoch 27: val_accuracy did not improve from 0.88538\n",
            "\u001b[1m96/96\u001b[0m \u001b[32m━━━━━━━━━━━━━━━━━━━━\u001b[0m\u001b[37m\u001b[0m \u001b[1m43s\u001b[0m 289ms/step - accuracy: 0.8572 - loss: 1.0433 - val_accuracy: 0.8801 - val_loss: 1.0105 - learning_rate: 1.0000e-04\n",
            "Epoch 28/30\n",
            "\u001b[1m96/96\u001b[0m \u001b[32m━━━━━━━━━━━━━━━━━━━━\u001b[0m\u001b[37m\u001b[0m \u001b[1m0s\u001b[0m 231ms/step - accuracy: 0.8508 - loss: 1.0464\n",
            "Epoch 28: val_accuracy did not improve from 0.88538\n",
            "\u001b[1m96/96\u001b[0m \u001b[32m━━━━━━━━━━━━━━━━━━━━\u001b[0m\u001b[37m\u001b[0m \u001b[1m29s\u001b[0m 286ms/step - accuracy: 0.8508 - loss: 1.0463 - val_accuracy: 0.8788 - val_loss: 1.0067 - learning_rate: 1.0000e-04\n",
            "Epoch 29/30\n",
            "\u001b[1m96/96\u001b[0m \u001b[32m━━━━━━━━━━━━━━━━━━━━\u001b[0m\u001b[37m\u001b[0m \u001b[1m0s\u001b[0m 224ms/step - accuracy: 0.8715 - loss: 1.0131\n",
            "Epoch 29: val_accuracy did not improve from 0.88538\n",
            "\u001b[1m96/96\u001b[0m \u001b[32m━━━━━━━━━━━━━━━━━━━━\u001b[0m\u001b[37m\u001b[0m \u001b[1m28s\u001b[0m 280ms/step - accuracy: 0.8714 - loss: 1.0132 - val_accuracy: 0.8814 - val_loss: 1.0024 - learning_rate: 1.0000e-04\n",
            "Epoch 30/30\n",
            "\u001b[1m96/96\u001b[0m \u001b[32m━━━━━━━━━━━━━━━━━━━━\u001b[0m\u001b[37m\u001b[0m \u001b[1m0s\u001b[0m 231ms/step - accuracy: 0.8421 - loss: 1.0390\n",
            "Epoch 30: val_accuracy did not improve from 0.88538\n",
            "\u001b[1m96/96\u001b[0m \u001b[32m━━━━━━━━━━━━━━━━━━━━\u001b[0m\u001b[37m\u001b[0m \u001b[1m41s\u001b[0m 285ms/step - accuracy: 0.8422 - loss: 1.0389 - val_accuracy: 0.8801 - val_loss: 0.9980 - learning_rate: 1.0000e-04\n",
            "Restoring model weights from the end of the best epoch: 30.\n"
          ]
        },
        {
          "output_type": "stream",
          "name": "stderr",
          "text": [
            "WARNING:absl:You are saving your model as an HDF5 file via `model.save()` or `keras.saving.save_model(model)`. This file format is considered legacy. We recommend using instead the native Keras format, e.g. `model.save('my_model.keras')` or `keras.saving.save_model(model, 'my_model.keras')`. \n"
          ]
        }
      ]
    },
    {
      "cell_type": "code",
      "source": [
        "import matplotlib.pyplot as plt\n",
        "\n",
        "# Extract the training history\n",
        "history = History.history\n",
        "\n",
        "# Plot training & validation accuracy\n",
        "plt.figure(figsize=(12, 6))\n",
        "\n",
        "plt.subplot(1, 2, 1)\n",
        "plt.plot(history['accuracy'], label='Train Accuracy')\n",
        "plt.plot(history['val_accuracy'], label='Validation Accuracy')\n",
        "plt.title('Model Accuracy')\n",
        "plt.xlabel('Epochs')\n",
        "plt.ylabel('Accuracy')\n",
        "plt.legend()\n",
        "\n",
        "# Plot training & validation loss\n",
        "plt.subplot(1, 2, 2)\n",
        "plt.plot(history['loss'], label='Train Loss')\n",
        "plt.plot(history['val_loss'], label='Validation Loss')\n",
        "plt.title('Model Loss')\n",
        "plt.xlabel('Epochs')\n",
        "plt.ylabel('Loss')\n",
        "plt.legend()\n",
        "\n",
        "plt.tight_layout()\n",
        "plt.show()"
      ],
      "metadata": {
        "id": "cXawEAu03ZL_",
        "colab": {
          "base_uri": "https://localhost:8080/",
          "height": 607
        },
        "outputId": "fc00f327-a0ca-4e3f-cb15-2e93f2947476"
      },
      "execution_count": 20,
      "outputs": [
        {
          "output_type": "display_data",
          "data": {
            "text/plain": [
              "<Figure size 1200x600 with 2 Axes>"
            ],
            "image/png": "[encoded data removed]"
          },
          "metadata": {}
        }
      ]
    },
    {
      "cell_type": "code",
      "source": [
        "final_train_acc = History.history['accuracy'][-1]\n",
        "final_val_acc = History.history['val_accuracy'][-1]\n",
        "final_train_loss = History.history['loss'][-1]\n",
        "final_val_loss = History.history['val_loss'][-1]\n",
        "\n",
        "print(f\"Final Training Accuracy: {final_train_acc:.4f}\")\n",
        "print(f\"Final Validation Accuracy: {final_val_acc:.4f}\")\n",
        "print(f\"Final Training Loss: {final_train_loss:.4f}\")\n",
        "print(f\"Final Validation Loss: {final_val_loss:.4f}\")\n"
      ],
      "metadata": {
        "id": "Z7_yH7oQ3ZVJ",
        "colab": {
          "base_uri": "https://localhost:8080/"
        },
        "outputId": "32cb7f6d-1aac-4dd6-a671-f6e1710c7e0d"
      },
      "execution_count": 21,
      "outputs": [
        {
          "output_type": "stream",
          "name": "stdout",
          "text": [
            "Final Training Accuracy: 0.8531\n",
            "Final Validation Accuracy: 0.8801\n",
            "Final Training Loss: 1.0246\n",
            "Final Validation Loss: 0.9980\n"
          ]
        }
      ]
    },
    {
      "cell_type": "code",
      "source": [
        "if 'lr' in History.history:\n",
        "    plt.plot(History.history['lr'], label='Learning Rate')\n",
        "    plt.title('Learning Rate Over Epochs')\n",
        "    plt.xlabel('Epochs')\n",
        "    plt.ylabel('Learning Rate')\n",
        "    plt.legend()\n",
        "    plt.show()"
      ],
      "metadata": {
        "id": "YdRXjM8v4OBV"
      },
      "execution_count": 22,
      "outputs": []
    },
    {
      "cell_type": "code",
      "source": [],
      "metadata": {
        "id": "WpWFIsWI4ONA"
      },
      "execution_count": 22,
      "outputs": []
    },
    {
      "cell_type": "code",
      "source": [
        "import json\n",
        "\n",
        "# Save history to a JSON file on Google Drive\n",
        "with open(\"/content/drive/MyDrive/DL_Project/Original_Models2/training_history.json\", \"w\") as f:\n",
        "    json.dump(History.history, f)\n",
        "\n",
        "# Load the history later\n",
        "with open(\"/content/drive/MyDrive/DL_Project/Original_Models2/training_history.json\", \"r\") as f:\n",
        "    loaded_history = json.load(f)\n",
        "    print(loaded_history)"
      ],
      "metadata": {
        "id": "dyCzTb_Z4UNV",
        "colab": {
          "base_uri": "https://localhost:8080/"
        },
        "outputId": "6c9456a8-535f-402f-88e3-645b780c7acc"
      },
      "execution_count": 23,
      "outputs": [
        {
          "output_type": "stream",
          "name": "stdout",
          "text": [
            "{'accuracy': [0.5399277210235596, 0.6260269284248352, 0.6565889120101929, 0.6822214722633362, 0.7029247283935547, 0.7127834558486938, 0.7279000878334045, 0.7377588152885437, 0.7535327076911926, 0.7466316223144531, 0.7755504250526428, 0.7729214429855347, 0.800197184085846, 0.7969109416007996, 0.8080841302871704, 0.813999354839325, 0.8189287185668945, 0.8215577006340027, 0.8317449688911438, 0.8393033146858215, 0.840617835521698, 0.8373315930366516, 0.8468616604804993, 0.840617835521698, 0.8527768850326538, 0.8442326784133911, 0.8537627458572388, 0.8560630679130554, 0.8639500737190247, 0.8531054854393005], 'loss': [1.397992730140686, 1.3370883464813232, 1.3148671388626099, 1.302388072013855, 1.2756918668746948, 1.2630863189697266, 1.2425273656845093, 1.2322953939437866, 1.2171287536621094, 1.216553807258606, 1.190388560295105, 1.17570960521698, 1.1601252555847168, 1.1530784368515015, 1.1359161138534546, 1.1323612928390503, 1.1220057010650635, 1.1105107069015503, 1.0981895923614502, 1.0918469429016113, 1.0798110961914062, 1.0829392671585083, 1.069168210029602, 1.06699800491333, 1.0560332536697388, 1.0558393001556396, 1.0393606424331665, 1.0335187911987305, 1.0229486227035522, 1.024641752243042], 'val_accuracy': [0.6903820633888245, 0.6982872486114502, 0.686429500579834, 0.6969696879386902, 0.7088273763656616, 0.7233201861381531, 0.7338603138923645, 0.7549406886100769, 0.7707509994506836, 0.7812911868095398, 0.791831374168396, 0.8050065636634827, 0.8313570618629456, 0.8418972492218018, 0.852437436580658, 0.8590250611305237, 0.8629776239395142, 0.8682476878166199, 0.8748353123664856, 0.8801053762435913, 0.8801053762435913, 0.8840579986572266, 0.8853754997253418, 0.8827404379844666, 0.8814229369163513, 0.8774703741073608, 0.8801053762435913, 0.8787878751754761, 0.8814229369163513, 0.8801053762435913], 'val_loss': [1.318084478378296, 1.2909770011901855, 1.2712624073028564, 1.2533740997314453, 1.2365317344665527, 1.2210915088653564, 1.2062608003616333, 1.19086754322052, 1.1765345335006714, 1.1632963418960571, 1.149190068244934, 1.136269211769104, 1.1233890056610107, 1.1119656562805176, 1.1007757186889648, 1.0902386903762817, 1.0797594785690308, 1.0703482627868652, 1.0615288019180298, 1.053537130355835, 1.0456829071044922, 1.0383319854736328, 1.0319262742996216, 1.0262752771377563, 1.0208014249801636, 1.0153639316558838, 1.0104576349258423, 1.0067397356033325, 1.002429723739624, 0.997988760471344], 'learning_rate': [9.999999747378752e-05, 9.999999747378752e-05, 9.999999747378752e-05, 9.999999747378752e-05, 9.999999747378752e-05, 9.999999747378752e-05, 9.999999747378752e-05, 9.999999747378752e-05, 9.999999747378752e-05, 9.999999747378752e-05, 9.999999747378752e-05, 9.999999747378752e-05, 9.999999747378752e-05, 9.999999747378752e-05, 9.999999747378752e-05, 9.999999747378752e-05, 9.999999747378752e-05, 9.999999747378752e-05, 9.999999747378752e-05, 9.999999747378752e-05, 9.999999747378752e-05, 9.999999747378752e-05, 9.999999747378752e-05, 9.999999747378752e-05, 9.999999747378752e-05, 9.999999747378752e-05, 9.999999747378752e-05, 9.999999747378752e-05, 9.999999747378752e-05, 9.999999747378752e-05]}\n"
          ]
        }
      ]
    },
    {
      "cell_type": "code",
      "source": [
        "from sklearn.metrics import confusion_matrix, classification_report, f1_score, accuracy_score\n",
        "import numpy as np\n",
        "import tensorflow as tf\n",
        "checkpoint_path = '/content/drive/MyDrive/DL_Project/Original_Models2/Original_EfficientNetB2_best_model.h5'\n",
        "model = tf.keras.models.load_model(checkpoint_path)\n",
        "\n",
        "test_generator.reset()\n",
        "predictions = model.predict(test_generator, steps=len(test_generator), verbose=1)\n",
        "\n",
        "# Convert predictions to binary labels\n",
        "predicted_labels = np.where(predictions > 0.5, 1, 0).flatten()\n",
        "\n",
        "# Get the true labels\n",
        "true_labels = test_generator.classes\n",
        "\n",
        "# Confusion Matrix\n",
        "conf_matrix = confusion_matrix(true_labels, predicted_labels)\n",
        "print(\"Confusion Matrix:\\n\", conf_matrix)\n",
        "\n",
        "# Classification Report\n",
        "class_report = classification_report(true_labels, predicted_labels, target_names=['Recyclable', 'Non-Recyclable'])\n",
        "print(\"\\nClassification Report:\\n\", class_report)\n",
        "\n",
        "# Accuracy Score\n",
        "accuracy = accuracy_score(true_labels, predicted_labels)\n",
        "print(\"\\nAccuracy:\", accuracy)\n",
        "\n",
        "# F1 Score\n",
        "f1 = f1_score(true_labels, predicted_labels)\n",
        "print(\"\\nF1 Score:\", f1)\n"
      ],
      "metadata": {
        "id": "5PX8Crse4UOe",
        "colab": {
          "base_uri": "https://localhost:8080/"
        },
        "outputId": "c59a173b-21ca-488d-a3a8-de67a8688cb4"
      },
      "execution_count": 24,
      "outputs": [
        {
          "output_type": "stream",
          "name": "stderr",
          "text": [
            "WARNING:absl:Compiled the loaded model, but the compiled metrics have yet to be built. `model.compile_metrics` will be empty until you train or evaluate the model.\n"
          ]
        },
        {
          "output_type": "stream",
          "name": "stdout",
          "text": [
            "\u001b[1m30/30\u001b[0m \u001b[32m━━━━━━━━━━━━━━━━━━━━\u001b[0m\u001b[37m\u001b[0m \u001b[1m383s\u001b[0m 13s/step\n",
            "Confusion Matrix:\n",
            " [[244  88]\n",
            " [ 29 589]]\n",
            "\n",
            "Classification Report:\n",
            "                 precision    recall  f1-score   support\n",
            "\n",
            "    Recyclable       0.89      0.73      0.81       332\n",
            "Non-Recyclable       0.87      0.95      0.91       618\n",
            "\n",
            "      accuracy                           0.88       950\n",
            "     macro avg       0.88      0.84      0.86       950\n",
            "  weighted avg       0.88      0.88      0.87       950\n",
            "\n",
            "\n",
            "Accuracy: 0.8768421052631579\n",
            "\n",
            "F1 Score: 0.9096525096525097\n"
          ]
        }
      ]
    },
    {
      "cell_type": "code",
      "source": [
        "# Define where to save everything\n",
        "results_save_path = \"/content/drive/MyDrive/DL_Project/Original_Models2/Original_EfficientNetB2_results.txt\"\n",
        "conf_matrix_save_path = \"/content/drive/MyDrive/DL_Project/Original_Models2/Original_EfficientNetB2_confusion_matrix.png\"\n",
        "with open(results_save_path, \"w\") as file:\n",
        "    file.write(f\"Accuracy: {accuracy:.4f}\\n\")\n",
        "    file.write(f\"F1 Score: {f1:.4f}\\n\")\n",
        "    file.write(f\"classification Report:\\n {class_report}\\n\")\n",
        "    file.write(f\"Confusion Matrix:\\n{conf_matrix}\\n\")\n",
        "\n",
        "print(f\"Results saved to {results_save_path}\")"
      ],
      "metadata": {
        "id": "Dkk6M6qE4aeW",
        "colab": {
          "base_uri": "https://localhost:8080/"
        },
        "outputId": "1b25304e-9fa3-41f2-fc0e-717837ecba37"
      },
      "execution_count": 25,
      "outputs": [
        {
          "output_type": "stream",
          "name": "stdout",
          "text": [
            "Results saved to /content/drive/MyDrive/DL_Project/Original_Models2/Original_EfficientNetB2_results.txt\n"
          ]
        }
      ]
    },
    {
      "cell_type": "code",
      "source": [
        "import matplotlib.pyplot as plt  # Import the plotting library and assign it to the alias 'plt'\n",
        "import seaborn as sns\n",
        "# Plot confusion matrix\n",
        "plt.figure(figsize=(6, 6))\n",
        "sns.heatmap(conf_matrix, annot=True, fmt=\"d\", cmap=\"Blues\", xticklabels=[\"Recyclable\", \"Non-Recyclable\"], yticklabels=[\"Recyclable\", \"Non-Recyclable\"])\n",
        "plt.xlabel(\"Predicted Labels\")\n",
        "plt.ylabel(\"True Labels\")\n",
        "plt.title(\"Confusion Matrix\")\n",
        "\n",
        "# Save confusion matrix as an image\n",
        "plt.savefig(conf_matrix_save_path)\n",
        "print(f\"Confusion matrix saved to {conf_matrix_save_path}\")\n",
        "from IPython.display import Image\n",
        "Image(filename=conf_matrix_save_path)\n",
        "plt.close()  # Close the plot to free up memory"
      ],
      "metadata": {
        "id": "3jHlLCr-4kL_",
        "colab": {
          "base_uri": "https://localhost:8080/"
        },
        "outputId": "dca1a64e-34f5-4f77-8dd3-030f442bcc7c"
      },
      "execution_count": 26,
      "outputs": [
        {
          "output_type": "stream",
          "name": "stdout",
          "text": [
            "Confusion matrix saved to /content/drive/MyDrive/DL_Project/Original_Models2/Original_EfficientNetB2_confusion_matrix.png\n"
          ]
        }
      ]
    }
  ]
}